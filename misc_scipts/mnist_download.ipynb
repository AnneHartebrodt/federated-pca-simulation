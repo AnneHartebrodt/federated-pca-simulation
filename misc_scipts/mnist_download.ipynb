{
 "cells": [
  {
   "cell_type": "markdown",
   "metadata": {},
   "source": [
    "### mnist data downloaded directly from http://yann.lecun.com/exdb/mnist/"
   ]
  },
  {
   "cell_type": "code",
   "execution_count": 20,
   "metadata": {},
   "outputs": [],
   "source": [
    "%%bash\n",
    "mydir='/home/anne/Documents/featurecloud/pca/vertical-pca/data/mnist/raw'\n",
    "mkdir -p $mydir\n",
    "cd $mydir\n",
    "#wget http://yann.lecun.com/exdb/mnist/t10k-labels-idx1-ubyte.gz\n",
    "#wget http://yann.lecun.com/exdb/mnist/t10k-images-idx3-ubyte.gz\n",
    "#wget http://yann.lecun.com/exdb/mnist/train-labels-idx1-ubyte.gz\n",
    "#wget http://yann.lecun.com/exdb/mnist/train-images-idx3-ubyte.gz\n",
    "mydir='/home/anne/Documents/featurecloud/pca/vertical-pca/data/mnist/splits'\n",
    "mkdir -p $mydir"
   ]
  },
  {
   "cell_type": "code",
   "execution_count": 3,
   "metadata": {},
   "outputs": [],
   "source": [
    "import numpy as np\n",
    "import pandas as pd\n",
    "import scipy as sc\n",
    "import os\n",
    "from scipy.sparse import coo_matrix"
   ]
  },
  {
   "cell_type": "code",
   "execution_count": 2,
   "metadata": {},
   "outputs": [],
   "source": [
    "import sys\n",
    "sys.path.append('..')\n",
    "import importlib\n",
    "import python.PCA.shared_functions as sh\n",
    "import python.import_export.mnist_import as mi\n"
   ]
  },
  {
   "cell_type": "code",
   "execution_count": 4,
   "metadata": {},
   "outputs": [],
   "source": [
    "test_data, train_data = mi.load_mnist('/home/anne/Documents/featurecloud/pca/vertical-pca/data/mnist/raw', 'train')\n",
    "test_data = coo_matrix.asfptype(test_data)"
   ]
  },
  {
   "cell_type": "code",
   "execution_count": 12,
   "metadata": {},
   "outputs": [
    {
     "name": "stdout",
     "output_type": "stream",
     "text": [
      "784\n",
      "784\n"
     ]
    }
   ],
   "source": [
    "splits = 2\n",
    "test_subsets, choice = sh.partition_data_vertically(test_data, splits=splits)"
   ]
  },
  {
   "cell_type": "code",
   "execution_count": 13,
   "metadata": {},
   "outputs": [],
   "source": [
    "i = 0\n",
    "for t in test_subsets:\n",
    "    i = i+1\n",
    "    pd.DataFrame(t).to_csv('/home/anne/Documents/featurecloud/pca/vertical-pca/data/mnist/splits/mnist_sub_'+str(splits)+'_'+str(i)+'.tsv', header=False, index=False, sep='\\t')"
   ]
  },
  {
   "cell_type": "code",
   "execution_count": null,
   "metadata": {},
   "outputs": [],
   "source": []
  }
 ],
 "metadata": {
  "kernelspec": {
   "display_name": "Python [conda env:federated-pca]",
   "language": "python",
   "name": "conda-env-federated-pca-py"
  },
  "language_info": {
   "codemirror_mode": {
    "name": "ipython",
    "version": 3
   },
   "file_extension": ".py",
   "mimetype": "text/x-python",
   "name": "python",
   "nbconvert_exporter": "python",
   "pygments_lexer": "ipython3",
   "version": "3.8.2"
  }
 },
 "nbformat": 4,
 "nbformat_minor": 1
}