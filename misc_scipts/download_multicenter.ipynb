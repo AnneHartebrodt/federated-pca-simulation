{
 "cells": [
  {
   "cell_type": "code",
   "execution_count": null,
   "outputs": [],
   "source": [
    "!basedir="
   ],
   "metadata": {
    "collapsed": false,
    "pycharm": {
     "name": "#%%\n"
    }
   }
  },
  {
   "cell_type": "code",
   "execution_count": null,
   "metadata": {
    "collapsed": true
   },
   "outputs": [],
   "source": [
    "!mkdir -p software\n",
    "!cd software\n",
    "!wget https://ftp-trace.ncbi.nlm.nih.gov/sra/sdk/2.11.0/sratoolkit.2.11.0-ubuntu64.tar.gz\n",
    "!tar xzvf sratoolkit.2.11.0-ubuntu64.tar.gz\n",
    "!cd sratoolkit.2.11.0-ubuntu64/bin\n",
    "!./vdb-config -i\n",
    "!cd $basedir"
   ]
  },
  {
   "cell_type": "markdown",
   "source": [
    "SRR9134550\n",
    "SRR10051134\n",
    "SRR9134555\n",
    "SRR9134726\n",
    "SRR9134512\n",
    "SRR9134611\n",
    "SRR9134613"
   ],
   "metadata": {
    "collapsed": false,
    "pycharm": {
     "name": "#%% md\n"
    }
   }
  },
  {
   "cell_type": "markdown",
   "source": [
    "Run\tAGE\tAssay Type\tAvgSpotLen\tBases\tBiomaterial_provider\tBioProject\tBioSample\tBioSampleModel\tBytes\tcell_line\tCenter Name\tConsent\tDATASTORE filetype\tDATASTORE provider\tDATASTORE region\tExperiment\tInstrument\tisolate\tLibrary Name\tLibraryLayout\tLibrarySelection\tLibrarySource\tOrganism\tPlatform\tReleaseDate\tSample Name\tsex\tSRA Study\tTissue\tdisease\tSAMPLE_TYPE\n",
    "SRR9134512\t43\tRNA-Seq\t124\t15208682336\thuman breast cancer cell line (HCC1395) from ATCC (American Type Culture Collection\\, VA\\, USA)\tPRJNA504037\tSAMN11872644\tHuman\t7603735522\tbreast cancer cell line (HCC1395)\tLOMA LINDA UNIVERSITY SCHOOL OF MEDICINE\tpublic\tfastq,sra\tgs,ncbi,s3\tgs.US,ncbi.public,s3.us-east-1\tSRX5908233\tIllumina HiSeq 4000\tATCC\t10X_LLU_A_Seq3\tPAIRED\tPolyA\tTRANSCRIPTOMIC\tHomo sapiens\tILLUMINA\t2020-06-29T00:00:00Z\tHCC1395\tfemale\tSRP199641\tbreast\tDOID:0050671 | female breast cancer\tcell culture\n",
    "SRR9134550\t43\tRNA-Seq\t124\t62731473148\tnormal B lymphocyte cell line (HCC1395BL) from ATCC (American Type Culture Collection\\, VA\\, USA)\tPRJNA504037\tSAMN11872645\tHuman\t30495406860\tnormal B lymphocyte cell line (HCC1395BL)\tLOMA LINDA UNIVERSITY SCHOOL OF MEDICINE\tpublic\tfastq,sra\tgs,ncbi,s3\tgs.US,ncbi.public,s3.us-east-1\tSRX5908182\tIllumina HiSeq 4000\tATCC\t10X_NCI_B\tPAIRED\tPolyA\tTRANSCRIPTOMIC\tHomo sapiens\tILLUMINA\t2020-06-29T00:00:00Z\tHCC1395BL\tfemale\tSRP199641\tblood\n",
    "SRR9134555\t43\tRNA-Seq\t124\t7382425684\tnormal B lymphocyte cell line (HCC1395BL) from ATCC (American Type Culture Collection\\, VA\\, USA)\tPRJNA504037\tSAMN11872645\tHuman\t3695765911\tnormal B lymphocyte cell line (HCC1395BL)\tLOMA LINDA UNIVERSITY SCHOOL OF MEDICINE\tpublic\tfastq,sra\tgs,ncbi,s3\tgs.US,ncbi.public,s3.us-east-1\tSRX5908201\tIllumina HiSeq 4000\tATCC\t10X_LLU_B_Seq3\tPAIRED\tPolyA\tTRANSCRIPTOMIC\tHomo sapiens\tILLUMINA\t2020-06-29T00:00:00Z\tHCC1395BL\tfemale\tSRP199641\tblood\n",
    "SRR9134611\t43\tRNA-Seq\t124\t17661120360\thuman breast cancer cell line (HCC1395) from ATCC (American Type Culture Collection\\, VA\\, USA)\tPRJNA504037\tSAMN11872644\tHuman\t8308368427\tbreast cancer cell line (HCC1395)\tLOMA LINDA UNIVERSITY SCHOOL OF MEDICINE\tpublic\tfastq,sra\tgs,ncbi,s3\tgs.US,ncbi.public,s3.us-east-1\tSRX5908423\tNextSeq 550\tATCC\t10X_LLU_A_Seq2\tPAIRED\tPolyA\tTRANSCRIPTOMIC\tHomo sapiens\tILLUMINA\t2020-06-29T00:00:00Z\tHCC1395\tfemale\tSRP199641\tbreast\tDOID:0050671 | female breast cancer\tcell culture\n",
    "SRR9134613\t43\tRNA-Seq\t124\t16396378764\thuman breast cancer cell line (HCC1395) from ATCC (American Type Culture Collection\\, VA\\, USA)\tPRJNA504037\tSAMN11872644\tHuman\t7518734052\tbreast cancer cell line (HCC1395)\tLOMA LINDA UNIVERSITY SCHOOL OF MEDICINE\tpublic\tfastq,sra\tgs,ncbi,s3\tgs.US,ncbi.public,s3.us-east-1\tSRX5908538\tNextSeq 550\tATCC\t10X_LLU_A_Seq1\tPAIRED\tPolyA\tTRANSCRIPTOMIC\tHomo sapiens\tILLUMINA\t2020-06-29T00:00:00Z\tHCC1395\tfemale\tSRP199641\tbreast\tDOID:0050671 | female breast cancer\tcell culture\n",
    "SRR9134726\t43\tRNA-Seq\t124\t16693386416\tnormal B lymphocyte cell line (HCC1395BL) from ATCC (American Type Culture Collection\\, VA\\, USA)\tPRJNA504037\tSAMN11872645\tHuman\t7674172171\tnormal B lymphocyte cell line (HCC1395BL)\tLOMA LINDA UNIVERSITY SCHOOL OF MEDICINE\tpublic\tfastq,sra\tgs,ncbi,s3\tgs.US,ncbi.public,s3.us-east-1\tSRX5908537\tNextSeq 550\tATCC\t10X_LLU_B_Seq1\tPAIRED\tPolyA\tTRANSCRIPTOMIC\tHomo sapiens\tILLUMINA\t2020-06-29T00:00:00Z\tHCC1395BL\tfemale\tSRP199641\tblood\n",
    "SRR10051134\t43\tRNA-Seq\t124\t44166752140\thuman breast cancer cell line (HCC1395) from ATCC (American Type Culture Collection\\, VA\\, USA)\tPRJNA504037\tSAMN11872644\tHuman\t18218405655\tbreast cancer cell line (HCC1395)\tLOMA LINDA UNIVERSITY SCHOOL OF MEDICINE\tpublic\tfastq,sra\tgs,ncbi,s3\tgs.US,ncbi.public,s3.us-east-1\tSRX6785055\tNextSeq 550\tATCC\t10X_NCI_A\tPAIRED\tPolyA\tTRANSCRIPTOMIC\tHomo sapiens\tILLUMINA\t2020-09-29T00:00:00Z\tHCC1395\tfemale\tSRP199641\tbreast\tDOID:0050671 | female breast cancer\tcell culture\n"
   ],
   "metadata": {
    "collapsed": false,
    "pycharm": {
     "name": "#%% md\n"
    }
   }
  },
  {
   "cell_type": "code",
   "execution_count": null,
   "outputs": [],
   "source": [
    "!mkdir -p data/chen_data\n",
    "!cd data/chen_data\n",
    "!./../../software/sratoolkit.2.11.0-ubuntu64/bin/fasterq-dump SRR9134550"
   ],
   "metadata": {
    "collapsed": false,
    "pycharm": {
     "name": "#%%\n"
    }
   }
  },
  {
   "cell_type": "code",
   "execution_count": null,
   "outputs": [],
   "source": [
    "\n",
    "\n"
   ],
   "metadata": {
    "collapsed": false,
    "pycharm": {
     "name": "#%% obtain and run cellranger tool\n"
    }
   }
  }
 ],
 "metadata": {
  "kernelspec": {
   "display_name": "Python 3",
   "language": "python",
   "name": "python3"
  },
  "language_info": {
   "codemirror_mode": {
    "name": "ipython",
    "version": 2
   },
   "file_extension": ".py",
   "mimetype": "text/x-python",
   "name": "python",
   "nbconvert_exporter": "python",
   "pygments_lexer": "ipython2",
   "version": "2.7.6"
  }
 },
 "nbformat": 4,
 "nbformat_minor": 0
}