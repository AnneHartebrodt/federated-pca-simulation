{
 "cells": [
  {
   "cell_type": "code",
   "execution_count": 17,
   "outputs": [],
   "source": [
    "import numpy as np\n",
    "import pandas as pd\n",
    "import matplotlib.pyplot as pl\n",
    "from matplotlib import rcParams\n",
    "import scanpy as sc\n",
    "import numpy as np\n",
    "import sklearn as sk\n",
    "import sklearn.metrics.cluster as m"
   ],
   "metadata": {
    "collapsed": false,
    "pycharm": {
     "name": "#%%\n"
    }
   }
  },
  {
   "cell_type": "code",
   "execution_count": 28,
   "outputs": [],
   "source": [
    "def find_cluster_matching(true_labels, predictions):\n",
    "    \"\"\"\n",
    "    Compute a cluster matching between the two labellings.\n",
    "    This is done by computing a contingency matrix (computing the co-occurence of label\n",
    "    pairs) and choosing the argmax for each label/\n",
    "    :param true_labels: The gold standard labels\n",
    "    :param predictions: The predictions\n",
    "    :return: A matching beween the true labels and the predicted labels in form of a\n",
    "    dictionary {true_label: predicted_label, ...}\n",
    "    \"\"\"\n",
    "    # true_labels = [1,1,2,2,3,4,5,5]\n",
    "    # predictions = [2,2,1,1,4,3,6,6]\n",
    "\n",
    "    rownames = np.unique(true_labels)\n",
    "    colnames = np.unique(predictions)\n",
    "    cont = m.contingency_matrix(true_labels, predictions)\n",
    "    # print(cont)\n",
    "    matching = []\n",
    "    for row in range(cont.shape[0]):\n",
    "        matching.append(np.argmax(cont[row, :]))\n",
    "\n",
    "    label_match = {}\n",
    "    for a, b in zip(rownames, colnames[matching]):\n",
    "        label_match[b] = a\n",
    "\n",
    "    # Fallback if there is not an optimal cluster correspondence\n",
    "    for c in colnames:\n",
    "        if c not in label_match.keys():\n",
    "            label_match[c] = -1\n",
    "\n",
    "    # print(colnames)\n",
    "    # print(colnames[matching])\n",
    "    #print(label_match)\n",
    "    new_prediction_labels = [label_match[b] for b in predictions]\n",
    "\n",
    "    return label_match, new_prediction_labels\n",
    "\n",
    "\n",
    "def confusion_matrix(true_labels, predictions):\n",
    "    \"\"\"\n",
    "    Compute the confusion matrix for each class\n",
    "    :param true_labels: Gold standard lables\n",
    "    :param predictions: predicted lables\n",
    "    :param labels: matching between the class names\n",
    "    :return: true positives, false positives, true negtiaves, false negatives in that order\n",
    "    \"\"\"\n",
    "    tp = {}\n",
    "    fp = {}\n",
    "    fn = {}\n",
    "    tn = {}\n",
    "\n",
    "    for cl in np.unique(true_labels):\n",
    "        tp[cl] = 0\n",
    "        fp[cl] = 0\n",
    "        fn[cl] = 0\n",
    "        tn[cl] = 0\n",
    "\n",
    "    for tl, pred in zip(true_labels, predictions):\n",
    "        for cl in np.unique(true_labels):\n",
    "            if tl == pred and tl == cl:\n",
    "                tp[cl] = tp[cl] + 1\n",
    "            elif tl == cl and pred != cl:\n",
    "                fn[cl] = fn[cl] + 1\n",
    "            elif tl != cl and pred != cl:\n",
    "                tn[cl] = tn[cl] + 1\n",
    "            else:\n",
    "                fp[cl] = fp[cl] + 1\n",
    "\n",
    "    return tp, fp, tn, fn\n",
    "\n",
    "\n",
    "def macro_f1(tp, fp, tn, fn, true_labels):\n",
    "    \"\"\"\n",
    "    Compute macro f1 score and additional evaluation metrics for the clustering\n",
    "    :param tp: True positives\n",
    "    :param fp: False positives\n",
    "    :param tn: True negatives\n",
    "    :param fn: False negatives\n",
    "    :param true_labels: The true labels\n",
    "    :return: Macro F1 score, dictionaries of class-wise f1 scores, precision and recall\n",
    "    \"\"\"\n",
    "    precision = {}\n",
    "    recall = {}\n",
    "    f1 = {}\n",
    "    macro_f1 = 0\n",
    "    for cl in np.unique(true_labels):\n",
    "        if tp[cl] > 0 or fp[cl] > 0:\n",
    "            precision[cl] = tp[cl] / (tp[cl] + fp[cl])\n",
    "        else:\n",
    "            precision[cl] = 0.0\n",
    "\n",
    "        if tp[cl] > 0 or fn[cl] > 0:\n",
    "            recall[cl] = tp[cl] / (tp[cl] + fn[cl])\n",
    "        else:\n",
    "            recall[cl] = 0.0\n",
    "        if precision[cl] or recall[cl] > 0:\n",
    "            f1[cl] = 2 * precision[cl] * recall[cl] / (precision[cl] + recall[cl])\n",
    "        else:\n",
    "            f1[cl] = 0.0\n",
    "        macro_f1 = macro_f1 + f1[cl]\n",
    "\n",
    "    macro_f1 = macro_f1 / len(np.unique(true_labels))\n",
    "\n",
    "    return macro_f1, f1, precision, recall\n",
    "\n",
    "\n",
    "def evaluate(true_labels, predictions):\n",
    "    labels, matching = find_cluster_matching(true_labels, predictions)\n",
    "    tp, fp, tn, fn = confusion_matrix(true_labels, predictions)\n",
    "    ma_f1, f1, precision, recall = macro_f1(tp, fp, tn, fn, true_labels)\n",
    "    #print(ma_f1, f1, precision, recall)\n",
    "    return ma_f1, f1, precision, recall\n",
    "\n",
    "\n",
    "def simplified_silhouette_scores(data, label, centroids):\n",
    "    # cannot use sklearn silhouette coefficient here,\n",
    "    # because it relies solely on the labels, which means, the centroids\n",
    "    # will be computed in a wrong manner.\n",
    "\n",
    "    # need to compute simpliefied silhouette coefficient based on the\n",
    "    # global centroids\n",
    "\n",
    "    if len(np.unique(label))<=1:\n",
    "        return [0] * data.shape[0]\n",
    "\n",
    "    nearest_centroid = []\n",
    "    nearest_distance = []\n",
    "\n",
    "    second_best_centroid = []\n",
    "    second_distance = []\n",
    "\n",
    "\n",
    "    for i in range(data.shape[0]):\n",
    "        # compute second best centroid for each data point\n",
    "        current_nearest = 0\n",
    "        current_nearest_distance = np.inf\n",
    "\n",
    "        current_second = 1\n",
    "        current_second_distance = np.inf\n",
    "\n",
    "\n",
    "        for c in range(centroids.shape[0]):\n",
    "            # compute distance\n",
    "            cd = np.linalg.norm(data[i, :]-centroids[c, :])\n",
    "            if cd < current_nearest_distance:\n",
    "                if current_nearest_distance < current_second_distance:\n",
    "                    current_second_distance = current_nearest_distance\n",
    "                    current_second = current_nearest\n",
    "                current_nearest_distance = cd\n",
    "                current_nearest = c\n",
    "            elif cd < current_second_distance:\n",
    "                current_second_distance = cd\n",
    "                current_second = c\n",
    "\n",
    "        nearest_centroid.append(current_nearest)\n",
    "        nearest_distance.append(current_nearest_distance)\n",
    "        second_best_centroid.append(current_second)\n",
    "        second_distance.append(current_second_distance)\n",
    "\n",
    "    silhouette_value = []\n",
    "    for i in range(data.shape[0]):\n",
    "        try:\n",
    "            sv = (second_distance[i]-nearest_distance[i])/max(second_distance[i], nearest_distance[i])\n",
    "        except:\n",
    "            sv = -1\n",
    "        silhouette_value.append(sv)\n",
    "\n",
    "    # set silhouette for singletons to 0\n",
    "    bc = np.bincount(nearest_centroid)\n",
    "    for i in np.where(bc==1)[0]:\n",
    "        silhouette_value[np.where(nearest_centroid==i)[0][0]]=0\n",
    "\n",
    "    return silhouette_value\n",
    "\n",
    "def simplified_silhouette_coefficient(data, label, centroids):\n",
    "    silhouette_values = simplified_silhouette_scores(data, label, centroids)\n",
    "    return np.mean(silhouette_values)\n",
    "\n"
   ],
   "metadata": {
    "collapsed": false,
    "pycharm": {
     "name": "#%%\n"
    }
   }
  },
  {
   "cell_type": "code",
   "execution_count": 14,
   "outputs": [],
   "source": [
    "#sc.settings.verbosity = 3  # verbosity: errors (0), warnings (1), info (2), hints (3)\n",
    "#sc.logging.print_versions()\n",
    "#results_file = './write/paul15.h5ad'\n",
    "sc.settings.set_figure_params(dpi=80, frameon=False, figsize=(3, 3), facecolor='white')\n",
    "sc.settings.figdir='/home/anne/Documents/featurecloud/pca/horizontal-pca/figures/single-cell'# low dpi (dots per inch) yields small inline figures\n"
   ],
   "metadata": {
    "collapsed": false,
    "pycharm": {
     "name": "#%%\n"
    }
   }
  },
  {
   "cell_type": "code",
   "execution_count": 10,
   "outputs": [],
   "source": [
    "orig  = sc.read_h5ad('/home/anne/Documents/featurecloud/pca/horizontal-pca/figures/orig.h5ad')\n",
    "approx = sc.read_h5ad('/home/anne/Documents/featurecloud/pca/horizontal-pca/figures/approx.h5ad')"
   ],
   "metadata": {
    "collapsed": false,
    "pycharm": {
     "name": "#%%\n"
    }
   }
  },
  {
   "cell_type": "code",
   "execution_count": 57,
   "outputs": [
    {
     "data": {
      "text/plain": "     paul15_clusters  n_counts_all leiden\n0               7MEP         353.0      1\n1               15Mo        2556.0      0\n2               3Ery        4649.0     21\n3               15Mo        4486.0      8\n4               3Ery        5205.0     21\n...              ...           ...    ...\n2725            2Ery        4873.0     20\n2726          13Baso        3553.0     10\n2727            7MEP         443.0      1\n2728            15Mo        3252.0      8\n2729            3Ery        6401.0      7\n\n[2730 rows x 3 columns]",
      "text/html": "<div>\n<style scoped>\n    .dataframe tbody tr th:only-of-type {\n        vertical-align: middle;\n    }\n\n    .dataframe tbody tr th {\n        vertical-align: top;\n    }\n\n    .dataframe thead th {\n        text-align: right;\n    }\n</style>\n<table border=\"1\" class=\"dataframe\">\n  <thead>\n    <tr style=\"text-align: right;\">\n      <th></th>\n      <th>paul15_clusters</th>\n      <th>n_counts_all</th>\n      <th>leiden</th>\n    </tr>\n  </thead>\n  <tbody>\n    <tr>\n      <th>0</th>\n      <td>7MEP</td>\n      <td>353.0</td>\n      <td>1</td>\n    </tr>\n    <tr>\n      <th>1</th>\n      <td>15Mo</td>\n      <td>2556.0</td>\n      <td>0</td>\n    </tr>\n    <tr>\n      <th>2</th>\n      <td>3Ery</td>\n      <td>4649.0</td>\n      <td>21</td>\n    </tr>\n    <tr>\n      <th>3</th>\n      <td>15Mo</td>\n      <td>4486.0</td>\n      <td>8</td>\n    </tr>\n    <tr>\n      <th>4</th>\n      <td>3Ery</td>\n      <td>5205.0</td>\n      <td>21</td>\n    </tr>\n    <tr>\n      <th>...</th>\n      <td>...</td>\n      <td>...</td>\n      <td>...</td>\n    </tr>\n    <tr>\n      <th>2725</th>\n      <td>2Ery</td>\n      <td>4873.0</td>\n      <td>20</td>\n    </tr>\n    <tr>\n      <th>2726</th>\n      <td>13Baso</td>\n      <td>3553.0</td>\n      <td>10</td>\n    </tr>\n    <tr>\n      <th>2727</th>\n      <td>7MEP</td>\n      <td>443.0</td>\n      <td>1</td>\n    </tr>\n    <tr>\n      <th>2728</th>\n      <td>15Mo</td>\n      <td>3252.0</td>\n      <td>8</td>\n    </tr>\n    <tr>\n      <th>2729</th>\n      <td>3Ery</td>\n      <td>6401.0</td>\n      <td>7</td>\n    </tr>\n  </tbody>\n</table>\n<p>2730 rows × 3 columns</p>\n</div>"
     },
     "execution_count": 57,
     "metadata": {},
     "output_type": "execute_result"
    }
   ],
   "source": [
    "approx.obs"
   ],
   "metadata": {
    "collapsed": false,
    "pycharm": {
     "name": "#%%\n"
    }
   }
  },
  {
   "cell_type": "code",
   "execution_count": 58,
   "outputs": [
    {
     "data": {
      "text/plain": "     paul15_clusters  n_counts_all leiden\n0               7MEP         353.0      6\n1               15Mo        2556.0     12\n2               3Ery        4649.0     17\n3               15Mo        4486.0      1\n4               3Ery        5205.0     17\n...              ...           ...    ...\n2725            2Ery        4873.0     16\n2726          13Baso        3553.0     29\n2727            7MEP         443.0      6\n2728            15Mo        3252.0      9\n2729            3Ery        6401.0      8\n\n[2730 rows x 3 columns]",
      "text/html": "<div>\n<style scoped>\n    .dataframe tbody tr th:only-of-type {\n        vertical-align: middle;\n    }\n\n    .dataframe tbody tr th {\n        vertical-align: top;\n    }\n\n    .dataframe thead th {\n        text-align: right;\n    }\n</style>\n<table border=\"1\" class=\"dataframe\">\n  <thead>\n    <tr style=\"text-align: right;\">\n      <th></th>\n      <th>paul15_clusters</th>\n      <th>n_counts_all</th>\n      <th>leiden</th>\n    </tr>\n  </thead>\n  <tbody>\n    <tr>\n      <th>0</th>\n      <td>7MEP</td>\n      <td>353.0</td>\n      <td>6</td>\n    </tr>\n    <tr>\n      <th>1</th>\n      <td>15Mo</td>\n      <td>2556.0</td>\n      <td>12</td>\n    </tr>\n    <tr>\n      <th>2</th>\n      <td>3Ery</td>\n      <td>4649.0</td>\n      <td>17</td>\n    </tr>\n    <tr>\n      <th>3</th>\n      <td>15Mo</td>\n      <td>4486.0</td>\n      <td>1</td>\n    </tr>\n    <tr>\n      <th>4</th>\n      <td>3Ery</td>\n      <td>5205.0</td>\n      <td>17</td>\n    </tr>\n    <tr>\n      <th>...</th>\n      <td>...</td>\n      <td>...</td>\n      <td>...</td>\n    </tr>\n    <tr>\n      <th>2725</th>\n      <td>2Ery</td>\n      <td>4873.0</td>\n      <td>16</td>\n    </tr>\n    <tr>\n      <th>2726</th>\n      <td>13Baso</td>\n      <td>3553.0</td>\n      <td>29</td>\n    </tr>\n    <tr>\n      <th>2727</th>\n      <td>7MEP</td>\n      <td>443.0</td>\n      <td>6</td>\n    </tr>\n    <tr>\n      <th>2728</th>\n      <td>15Mo</td>\n      <td>3252.0</td>\n      <td>9</td>\n    </tr>\n    <tr>\n      <th>2729</th>\n      <td>3Ery</td>\n      <td>6401.0</td>\n      <td>8</td>\n    </tr>\n  </tbody>\n</table>\n<p>2730 rows × 3 columns</p>\n</div>"
     },
     "execution_count": 58,
     "metadata": {},
     "output_type": "execute_result"
    }
   ],
   "source": [
    "orig.obs"
   ],
   "metadata": {
    "collapsed": false,
    "pycharm": {
     "name": "#%%\n"
    }
   }
  },
  {
   "cell_type": "code",
   "execution_count": 11,
   "outputs": [],
   "source": [],
   "metadata": {
    "collapsed": false,
    "pycharm": {
     "name": "#%%\n"
    }
   }
  },
  {
   "cell_type": "code",
   "execution_count": 19,
   "outputs": [],
   "source": [
    "match, approx_labels = find_cluster_matching(orig.obs['leiden'].values, approx.obs['leiden'].values)"
   ],
   "metadata": {
    "collapsed": false,
    "pycharm": {
     "name": "#%%\n"
    }
   }
  },
  {
   "cell_type": "code",
   "execution_count": 20,
   "outputs": [],
   "source": [
    "tp, fp, tn, fn = confusion_matrix(orig.obs['leiden'].values, approx_labels)\n"
   ],
   "metadata": {
    "collapsed": false,
    "pycharm": {
     "name": "#%%\n"
    }
   }
  },
  {
   "cell_type": "code",
   "execution_count": 53,
   "outputs": [],
   "source": [
    "mf1, f1, precision, recall  = macro_f1(tp, fp, tn, fn, orig.obs['leiden'].values)"
   ],
   "metadata": {
    "collapsed": false,
    "pycharm": {
     "name": "#%%\n"
    }
   }
  },
  {
   "cell_type": "code",
   "execution_count": 63,
   "outputs": [],
   "source": [
    "df = []\n",
    "precision =  precision\n",
    "for k,p in zip(precision.keys(), precision.values()):\n",
    "    df.append([k, np.float(p), np.float(recall[k])])"
   ],
   "metadata": {
    "collapsed": false,
    "pycharm": {
     "name": "#%%\n"
    }
   }
  },
  {
   "cell_type": "code",
   "execution_count": 64,
   "outputs": [],
   "source": [
    "df = np.stack(df, axis=1).T"
   ],
   "metadata": {
    "collapsed": false,
    "pycharm": {
     "name": "#%%\n"
    }
   }
  },
  {
   "cell_type": "code",
   "execution_count": 65,
   "outputs": [],
   "source": [
    "df = pd.DataFrame(df)"
   ],
   "metadata": {
    "collapsed": false,
    "pycharm": {
     "name": "#%%\n"
    }
   }
  },
  {
   "cell_type": "code",
   "execution_count": 66,
   "outputs": [
    {
     "ename": "KeyError",
     "evalue": "'[3, 4, 5, 6, 7, 8, 9, 10, 11, 12, 13, 14, 15, 16, 17, 18, 19, 20, 21, 22, 23, 24, 25, 26, 27, 28, 29, 30, 31, 32] not in index'",
     "output_type": "error",
     "traceback": [
      "\u001B[0;31m---------------------------------------------------------------------------\u001B[0m",
      "\u001B[0;31mKeyError\u001B[0m                                  Traceback (most recent call last)",
      "\u001B[0;32m<ipython-input-66-4a52e795c5bb>\u001B[0m in \u001B[0;36m<module>\u001B[0;34m\u001B[0m\n\u001B[0;32m----> 1\u001B[0;31m \u001B[0mdf\u001B[0m\u001B[0;34m[\u001B[0m\u001B[0mnp\u001B[0m\u001B[0;34m.\u001B[0m\u001B[0margsort\u001B[0m\u001B[0;34m(\u001B[0m\u001B[0mdf\u001B[0m\u001B[0;34m.\u001B[0m\u001B[0miloc\u001B[0m\u001B[0;34m[\u001B[0m\u001B[0;34m:\u001B[0m\u001B[0;34m,\u001B[0m \u001B[0;36m0\u001B[0m\u001B[0;34m]\u001B[0m\u001B[0;34m)\u001B[0m\u001B[0;34m]\u001B[0m\u001B[0;34m\u001B[0m\u001B[0;34m\u001B[0m\u001B[0m\n\u001B[0m",
      "\u001B[0;32m~/miniconda3/envs/federated_dp_pca/lib/python3.7/site-packages/pandas/core/frame.py\u001B[0m in \u001B[0;36m__getitem__\u001B[0;34m(self, key)\u001B[0m\n\u001B[1;32m   3028\u001B[0m             \u001B[0;32mif\u001B[0m \u001B[0mis_iterator\u001B[0m\u001B[0;34m(\u001B[0m\u001B[0mkey\u001B[0m\u001B[0;34m)\u001B[0m\u001B[0;34m:\u001B[0m\u001B[0;34m\u001B[0m\u001B[0;34m\u001B[0m\u001B[0m\n\u001B[1;32m   3029\u001B[0m                 \u001B[0mkey\u001B[0m \u001B[0;34m=\u001B[0m \u001B[0mlist\u001B[0m\u001B[0;34m(\u001B[0m\u001B[0mkey\u001B[0m\u001B[0;34m)\u001B[0m\u001B[0;34m\u001B[0m\u001B[0;34m\u001B[0m\u001B[0m\n\u001B[0;32m-> 3030\u001B[0;31m             \u001B[0mindexer\u001B[0m \u001B[0;34m=\u001B[0m \u001B[0mself\u001B[0m\u001B[0;34m.\u001B[0m\u001B[0mloc\u001B[0m\u001B[0;34m.\u001B[0m\u001B[0m_get_listlike_indexer\u001B[0m\u001B[0;34m(\u001B[0m\u001B[0mkey\u001B[0m\u001B[0;34m,\u001B[0m \u001B[0maxis\u001B[0m\u001B[0;34m=\u001B[0m\u001B[0;36m1\u001B[0m\u001B[0;34m,\u001B[0m \u001B[0mraise_missing\u001B[0m\u001B[0;34m=\u001B[0m\u001B[0;32mTrue\u001B[0m\u001B[0;34m)\u001B[0m\u001B[0;34m[\u001B[0m\u001B[0;36m1\u001B[0m\u001B[0;34m]\u001B[0m\u001B[0;34m\u001B[0m\u001B[0;34m\u001B[0m\u001B[0m\n\u001B[0m\u001B[1;32m   3031\u001B[0m \u001B[0;34m\u001B[0m\u001B[0m\n\u001B[1;32m   3032\u001B[0m         \u001B[0;31m# take() does not accept boolean indexers\u001B[0m\u001B[0;34m\u001B[0m\u001B[0;34m\u001B[0m\u001B[0;34m\u001B[0m\u001B[0m\n",
      "\u001B[0;32m~/miniconda3/envs/federated_dp_pca/lib/python3.7/site-packages/pandas/core/indexing.py\u001B[0m in \u001B[0;36m_get_listlike_indexer\u001B[0;34m(self, key, axis, raise_missing)\u001B[0m\n\u001B[1;32m   1264\u001B[0m             \u001B[0mkeyarr\u001B[0m\u001B[0;34m,\u001B[0m \u001B[0mindexer\u001B[0m\u001B[0;34m,\u001B[0m \u001B[0mnew_indexer\u001B[0m \u001B[0;34m=\u001B[0m \u001B[0max\u001B[0m\u001B[0;34m.\u001B[0m\u001B[0m_reindex_non_unique\u001B[0m\u001B[0;34m(\u001B[0m\u001B[0mkeyarr\u001B[0m\u001B[0;34m)\u001B[0m\u001B[0;34m\u001B[0m\u001B[0;34m\u001B[0m\u001B[0m\n\u001B[1;32m   1265\u001B[0m \u001B[0;34m\u001B[0m\u001B[0m\n\u001B[0;32m-> 1266\u001B[0;31m         \u001B[0mself\u001B[0m\u001B[0;34m.\u001B[0m\u001B[0m_validate_read_indexer\u001B[0m\u001B[0;34m(\u001B[0m\u001B[0mkeyarr\u001B[0m\u001B[0;34m,\u001B[0m \u001B[0mindexer\u001B[0m\u001B[0;34m,\u001B[0m \u001B[0maxis\u001B[0m\u001B[0;34m,\u001B[0m \u001B[0mraise_missing\u001B[0m\u001B[0;34m=\u001B[0m\u001B[0mraise_missing\u001B[0m\u001B[0;34m)\u001B[0m\u001B[0;34m\u001B[0m\u001B[0;34m\u001B[0m\u001B[0m\n\u001B[0m\u001B[1;32m   1267\u001B[0m         \u001B[0;32mreturn\u001B[0m \u001B[0mkeyarr\u001B[0m\u001B[0;34m,\u001B[0m \u001B[0mindexer\u001B[0m\u001B[0;34m\u001B[0m\u001B[0;34m\u001B[0m\u001B[0m\n\u001B[1;32m   1268\u001B[0m \u001B[0;34m\u001B[0m\u001B[0m\n",
      "\u001B[0;32m~/miniconda3/envs/federated_dp_pca/lib/python3.7/site-packages/pandas/core/indexing.py\u001B[0m in \u001B[0;36m_validate_read_indexer\u001B[0;34m(self, key, indexer, axis, raise_missing)\u001B[0m\n\u001B[1;32m   1314\u001B[0m             \u001B[0;32mif\u001B[0m \u001B[0mraise_missing\u001B[0m\u001B[0;34m:\u001B[0m\u001B[0;34m\u001B[0m\u001B[0;34m\u001B[0m\u001B[0m\n\u001B[1;32m   1315\u001B[0m                 \u001B[0mnot_found\u001B[0m \u001B[0;34m=\u001B[0m \u001B[0mlist\u001B[0m\u001B[0;34m(\u001B[0m\u001B[0mset\u001B[0m\u001B[0;34m(\u001B[0m\u001B[0mkey\u001B[0m\u001B[0;34m)\u001B[0m \u001B[0;34m-\u001B[0m \u001B[0mset\u001B[0m\u001B[0;34m(\u001B[0m\u001B[0max\u001B[0m\u001B[0;34m)\u001B[0m\u001B[0;34m)\u001B[0m\u001B[0;34m\u001B[0m\u001B[0;34m\u001B[0m\u001B[0m\n\u001B[0;32m-> 1316\u001B[0;31m                 \u001B[0;32mraise\u001B[0m \u001B[0mKeyError\u001B[0m\u001B[0;34m(\u001B[0m\u001B[0;34mf\"{not_found} not in index\"\u001B[0m\u001B[0;34m)\u001B[0m\u001B[0;34m\u001B[0m\u001B[0;34m\u001B[0m\u001B[0m\n\u001B[0m\u001B[1;32m   1317\u001B[0m \u001B[0;34m\u001B[0m\u001B[0m\n\u001B[1;32m   1318\u001B[0m             \u001B[0mnot_found\u001B[0m \u001B[0;34m=\u001B[0m \u001B[0mkey\u001B[0m\u001B[0;34m[\u001B[0m\u001B[0mmissing_mask\u001B[0m\u001B[0;34m]\u001B[0m\u001B[0;34m\u001B[0m\u001B[0;34m\u001B[0m\u001B[0m\n",
      "\u001B[0;31mKeyError\u001B[0m: '[3, 4, 5, 6, 7, 8, 9, 10, 11, 12, 13, 14, 15, 16, 17, 18, 19, 20, 21, 22, 23, 24, 25, 26, 27, 28, 29, 30, 31, 32] not in index'"
     ]
    }
   ],
   "source": [
    "df[np.argsort(df.iloc[:, 0])]"
   ],
   "metadata": {
    "collapsed": false,
    "pycharm": {
     "name": "#%%\n"
    }
   }
  }
 ],
 "metadata": {
  "kernelspec": {
   "display_name": "Python 3",
   "language": "python",
   "name": "python3"
  },
  "language_info": {
   "codemirror_mode": {
    "name": "ipython",
    "version": 2
   },
   "file_extension": ".py",
   "mimetype": "text/x-python",
   "name": "python",
   "nbconvert_exporter": "python",
   "pygments_lexer": "ipython2",
   "version": "2.7.6"
  }
 },
 "nbformat": 4,
 "nbformat_minor": 0
}