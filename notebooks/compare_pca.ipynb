{
 "cells": [
  {
   "cell_type": "markdown",
   "metadata": {},
   "source": [
    "## Load data "
   ]
  },
  {
   "cell_type": "markdown",
   "metadata": {},
   "source": [
    "The data has been generated using the R package splatter."
   ]
  },
  {
   "cell_type": "code",
   "execution_count": 1,
   "metadata": {},
   "outputs": [],
   "source": [
    "# system packages\n",
    "import numpy as np\n",
    "import pandas as pd\n",
    "import scanpy as sc\n",
    "import scipy as sp\n",
    "import seaborn as sns\n",
    "import matplotlib.pyplot as plt\n",
    "import sys\n",
    "import scipy.linalg as la\n",
    "import scipy.sparse.linalg as lsa\n",
    "import os.path as op\n",
    "import os\n",
    "\n",
    "\n",
    "basedir = '/home/anne/Documents/manuscripts/horizontal-pca'\n",
    "pcapath = '/home/anne/Documents/featurecloud/pca/federated_dp_pca'\n",
    "outdir = '/home/anne/Documents/featurecloud/pca/horizontal-pca/results/single-cell-simulated'\n",
    "\n",
    "\n",
    "# simulation code\n",
    "sys.path.append(pcapath)\n",
    "from python.PCA.horizontal.horizontal_pca_benchmark import wrapper_k_variation\n",
    "import python.PCA.shared_functions as sh\n",
    "import python.PCA.horizontal.horizontal_pca_power_iteration as h\n",
    "import python.PCA.horizontal.balcan as b\n",
    "import python.PCA.horizontal.bai as bai\n",
    "import python.PCA.horizontal.proxy_covariance as proxy\n",
    "import python.PCA.vertical.simulate_federated_vertically_partionned_pca as vertical\n",
    "import python.PCA.horizontal.leave1out as l1o\n",
    "\n",
    "import python.PCA.comparison as co\n",
    "sc.settings.set_figure_params(dpi=80, facecolor='white', frameon=True)\n",
    "sc.settings.figdir=op.join(basedir, 'figures/single-cell/')"
   ]
  },
  {
   "cell_type": "markdown",
   "metadata": {},
   "source": [
    "## Simulate PCA on three different kinds of simulated count data"
   ]
  },
  {
   "cell_type": "markdown",
   "metadata": {},
   "source": [
    "Reduce the dimensionality of the data by running principal component analysis (PCA), which reveals the main axes of variation and denoises the data.\n",
    "\n",
    "In order to understand the potential problems with federated principal component analysis for dimensionality reduction in federated setting, federated PCA is simulated using different approaches: Federated Power iteration, an exact algorithm and approximate PCA from this publication:\n",
    "\n",
    "*Maria-Florina Balcan, Vandana Kanchanapally, Yingyu Liang, and David Woodruff. Improved distributed principalcomponent analysis. In Proceedings of the 27th International Conference on Neural Information Processing Systems -Volume 2, NIPS’14, page 3113–3121, Cambridge, MA, USA,2014. MIT Press.*"
   ]
  },
  {
   "cell_type": "code",
   "execution_count": 6,
   "metadata": {},
   "outputs": [],
   "source": [
    "np.random.seed(40)"
   ]
  },
  {
   "cell_type": "markdown",
   "metadata": {},
   "source": [
    "Split the data into different chunks. Here, the data is horizontally partionned. This means, the cells are partionned over several virtual sites, but measurements for all genes are available."
   ]
  },
  {
   "cell_type": "code",
   "execution_count": 27,
   "metadata": {},
   "outputs": [],
   "source": [
    "def run_PCAs(inputfile):\n",
    "    major_group_outlier = sc.read_h5ad(inputfile)\n",
    "    sc.pp.scale(major_group_outlier)\n",
    "    data_list_major_group_outlier = [major_group_outlier[major_group_outlier.obs['Batch']==b].X for b in np.unique(major_group_outlier.obs['Batch'])]\n",
    "    # compute scanpy's standard PCA\n",
    "    sc.tl.pca(major_group_outlier)\n",
    "\n",
    "    # simulated fedeated power iteration \n",
    "    k= 50\n",
    "    x, e, count = h.simulate_distributed_horizontal(data_list_major_group_outlier, k, maxit=1000)\n",
    "    proj = np.dot(major_group_outlier.X, x)\n",
    "    major_group_outlier.obsm['X_pca_pow'] = proj\n",
    "    major_group_outlier.varm['PCs_pow'] = x\n",
    "\n",
    "    xx, ee = b.simulate_federated_horizontal_pca(data_list_major_group_outlier, k)\n",
    "    proj = np.dot(major_group_outlier.X, xx)\n",
    "    major_group_outlier.obsm['X_pca_approx'] = proj\n",
    "    major_group_outlier.varm['PCs_approx'] = xx\n",
    "    return major_group_outlier"
   ]
  },
  {
   "cell_type": "code",
   "execution_count": 28,
   "metadata": {},
   "outputs": [],
   "source": [
    "def save_results(major_group_outliers, filename):\n",
    "    result = pd.DataFrame(\n",
    "        np.concatenate([\n",
    "            np.concatenate([major_group_outlier.obs[['Cell', 'Batch', 'Group']], \n",
    "                            np.atleast_2d(np.array(['SIT']*major_group_outlier.shape[0])).T,\n",
    "                            major_group_outlier.obsm['X_pca_pow'][:,0:2]], axis=1),\n",
    "            np.concatenate([major_group_outlier.obs[['Cell', 'Batch', 'Group']],\n",
    "                            np.atleast_2d(np.array(['APSTACK']*major_group_outlier.shape[0])).T,\n",
    "                            major_group_outlier.obsm['X_pca_approx'][:,0:2]], axis=1),\n",
    "            np.concatenate([major_group_outlier.obs[['Cell', 'Batch', 'Group']],\n",
    "                            np.atleast_2d(np.array(['Centralised']*major_group_outlier.shape[0])).T,\n",
    "                            major_group_outlier.obsm['X_pca'][:,0:2]],axis=1)\n",
    "\n",
    "        ], axis=0), \n",
    "    columns = ['Cell','Batch','Group', 'PCA','PC1','PC2'])\n",
    "    result.to_csv(filename, sep='\\t', index=False)\n"
   ]
  },
  {
   "cell_type": "code",
   "execution_count": 29,
   "metadata": {},
   "outputs": [
    {
     "name": "stdout",
     "output_type": "stream",
     "text": [
      "converged: 1000\n",
      "(100, 1000)\n",
      "(100, 1000)\n",
      "(100, 1000)\n",
      "(100, 1000)\n",
      "(100, 1000)\n",
      "Intermediate dimensions100\n",
      "(500, 1000)\n"
     ]
    }
   ],
   "source": [
    "inputfile='/home/anne/Documents/featurecloud/pca/horizontal-pca/data/simulated/major_group_outlier.h5ad'\n",
    "outputfile= '/home/anne/Documents/featurecloud/pca/horizontal-pca/data/simulated/major_group_outlier_pca.tsv'\n",
    "\n",
    "major_group_outlier = run_PCAs(inputfile)\n",
    "save_results(major_group_outlier, outputfile)"
   ]
  },
  {
   "cell_type": "code",
   "execution_count": 30,
   "metadata": {},
   "outputs": [
    {
     "name": "stdout",
     "output_type": "stream",
     "text": [
      "converged: 1000\n",
      "(100, 1000)\n",
      "(100, 1000)\n",
      "(100, 1000)\n",
      "(100, 1000)\n",
      "(100, 1000)\n",
      "Intermediate dimensions100\n",
      "(500, 1000)\n"
     ]
    }
   ],
   "source": [
    "inputfile='/home/anne/Documents/featurecloud/pca/horizontal-pca/data/simulated/major_group.h5ad'\n",
    "outputfile= '/home/anne/Documents/featurecloud/pca/horizontal-pca/data/simulated/major_group_pca.tsv'\n",
    "\n",
    "major_group_outlier = run_PCAs(inputfile)\n",
    "save_results(major_group_outlier, outputfile)"
   ]
  },
  {
   "cell_type": "code",
   "execution_count": 31,
   "metadata": {},
   "outputs": [
    {
     "name": "stdout",
     "output_type": "stream",
     "text": [
      "converged: 1000\n",
      "(100, 1000)\n",
      "(100, 1000)\n",
      "(100, 1000)\n",
      "(100, 1000)\n",
      "(100, 1000)\n",
      "Intermediate dimensions100\n",
      "(500, 1000)\n"
     ]
    }
   ],
   "source": [
    "inputfile='/home/anne/Documents/featurecloud/pca/horizontal-pca/data/simulated/major_site.h5ad'\n",
    "outputfile= '/home/anne/Documents/featurecloud/pca/horizontal-pca/data/simulated/major_site_pca.tsv'\n",
    "\n",
    "major_group_outlier = run_PCAs(inputfile)\n",
    "save_results(major_group_outlier, outputfile)"
   ]
  }
 ],
 "metadata": {
  "anaconda-cloud": {},
  "kernelspec": {
   "display_name": "Python 3",
   "language": "python",
   "name": "python3"
  },
  "language_info": {
   "codemirror_mode": {
    "name": "ipython",
    "version": 3
   },
   "file_extension": ".py",
   "mimetype": "text/x-python",
   "name": "python",
   "nbconvert_exporter": "python",
   "pygments_lexer": "ipython3",
   "version": "3.7.9"
  }
 },
 "nbformat": 4,
 "nbformat_minor": 4
}
