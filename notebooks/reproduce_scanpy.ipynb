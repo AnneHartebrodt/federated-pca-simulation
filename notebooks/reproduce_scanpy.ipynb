{
 "cells": [
  {
   "cell_type": "markdown",
   "metadata": {},
   "source": [
    "# Preprocessing and clustering 3k PBMCs using federate PCA"
   ]
  },
  {
   "cell_type": "markdown",
   "metadata": {},
   "source": [
    "This documentation shows to which extend centralized PCA can be replaced with federated PCA. It is not meant as a fullly federated study, but mererly focuses on PCA. Nonetheless it would be possible to reproduce the summary statistic based preprocessing. Some preprocessing steps might not be immediatly federate-able such as regressing out the mitochondrial content. We are working on making more federated data anlysis methods available in the future. \n",
    "\n",
    "This is a modified version of the scanpy vignette. Verbatim content is marked in *italic*."
   ]
  },
  {
   "cell_type": "markdown",
   "metadata": {},
   "source": [
    "*In May 2017, this started out as a demonstration that Scanpy would allow to reproduce most of Seurat's [guided clustering tutorial](http://satijalab.org/seurat/pbmc3k_tutorial.html) ([Satija et al., 2015](https://doi.org/10.1038/nbt.3192)).*\n",
    "\n",
    "*We gratefully acknowledge Seurat's authors for the tutorial! In the meanwhile, we have added and removed a few pieces.*\n",
    "    \n",
    "*The data consist of 3k PBMCs from a Healthy Donor and are freely available from 10x Genomics ([here](http://cf.10xgenomics.com/samples/cell-exp/1.1.0/pbmc3k/pbmc3k_filtered_gene_bc_matrices.tar.gz) from this [webpage](https://support.10xgenomics.com/single-cell-gene-expression/datasets/1.1.0/pbmc3k)). On a unix system, you can uncomment and run the following to download and unpack the data. The last line creates a directory for writing processed data.*"
   ]
  },
  {
   "cell_type": "code",
   "execution_count": null,
   "metadata": {},
   "outputs": [],
   "source": [
    "# !mkdir -p /home/anne/Documents/featurecloud/pca/scanpy/data\n",
    "# !wget http://cf.10xgenomics.com/samples/cell-exp/1.1.0/pbmc3k/pbmc3k_filtered_gene_bc_matrices.tar.gz -O /home/anne/Documents/featurecloud/pca/scanpy/data/pbmc3k_filtered_gene_bc_matrices.tar.gz\n",
    "# !cd /home/anne/Documents/featurecloud/pca/scanpy/data; tar -xzf pbmc3k_filtered_gene_bc_matrices.tar.gz\n",
    "# !mkdir /home/anne/Documents/featurecloud/pca/scanpy/write"
   ]
  },
  {
   "cell_type": "code",
   "execution_count": null,
   "metadata": {},
   "outputs": [],
   "source": [
    "basedir = '/home/anne/Documents/manuscripts/horizontal-pca'\n",
    "pcapath = '/home/anne/Documents/featurecloud/pca/federated_dp_pca'\n",
    "datapath = '/home/anne/Documents/featurecloud/pca/scanpy/data/filtered_gene_bc_matrices/hg19/'\n",
    "outdir = '/home/anne/Documents/featurecloud/pca/horizontal-pca/results/single-cell'"
   ]
  },
  {
   "cell_type": "markdown",
   "metadata": {},
   "source": [
    "## Preprocessing"
   ]
  },
  {
   "cell_type": "markdown",
   "metadata": {},
   "source": [
    "The preprocessing has been done according to the scanpy vignette."
   ]
  },
  {
   "cell_type": "code",
   "execution_count": null,
   "metadata": {},
   "outputs": [],
   "source": [
    "# system packages\n",
    "import numpy as np\n",
    "import pandas as pd\n",
    "import scanpy as sc\n",
    "import scipy as sp\n",
    "import seaborn as sns\n",
    "import matplotlib.pyplot as plt\n",
    "import sys\n",
    "import scipy.linalg as la\n",
    "import scipy.sparse.linalg as lsa\n",
    "import os.path as op\n",
    "\n",
    "# simulation code\n",
    "sys.path.append(pcapath)\n",
    "from python.PCA.horizontal.horizontal_pca_benchmark import wrapper_k_variation\n",
    "import python.PCA.shared_functions as sh\n",
    "import python.PCA.horizontal.horizontal_pca_power_iteration as h\n",
    "import python.PCA.horizontal.balcan as b\n",
    "import python.PCA.horizontal.bai as bai\n",
    "import python.PCA.horizontal.proxy_covariance as proxy\n",
    "import python.PCA.vertical.simulate_federated_vertically_partionned_pca as vertical\n",
    "import python.PCA.horizontal.leave1out as l1o\n",
    "\n",
    "import python.PCA.comparison as co\n",
    "sc.settings.set_figure_params(dpi=80, facecolor='white')\n",
    "sc.settings.figdir=op.join(basedir, '/figures/single-cell/')"
   ]
  },
  {
   "cell_type": "markdown",
   "metadata": {},
   "source": [
    "## Run a consolidated version of the preprocessing in the vignette."
   ]
  },
  {
   "cell_type": "code",
   "execution_count": null,
   "metadata": {},
   "outputs": [],
   "source": [
    "adata = sc.read_10x_mtx(\n",
    "    datapath,  # the directory with the `.mtx` file\n",
    "    var_names='gene_symbols',                # use gene symbols for the variable names (variables-axis index)\n",
    "    cache=True) # write a cache file for faster subsequent reading\n",
    "adata.var_names_make_unique() \n",
    "sc.pp.filter_cells(adata, min_genes=200)\n",
    "sc.pp.filter_genes(adata, min_cells=3)\n",
    "adata.var['mt'] = adata.var_names.str.startswith('MT-')  # annotate the group of mitochondrial genes as 'mt'\n",
    "sc.pp.calculate_qc_metrics(adata, qc_vars=['mt'], percent_top=None, log1p=False, inplace=True)\n",
    "adata = adata[adata.obs.n_genes_by_counts < 2500, :]\n",
    "adata = adata[adata.obs.pct_counts_mt < 5, :]\n",
    "sc.pp.normalize_total(adata, target_sum=1e4)\n",
    "sc.pp.log1p(adata)\n",
    "sc.pp.highly_variable_genes(adata, min_mean=0.0125, max_mean=3, min_disp=0.5)\n",
    "adata = adata[:, adata.var.highly_variable]\n",
    "sc.pp.regress_out(adata, ['total_counts', 'pct_counts_mt'])\n",
    "sc.pp.scale(adata, max_value=10)"
   ]
  },
  {
   "cell_type": "code",
   "execution_count": null,
   "metadata": {},
   "outputs": [],
   "source": [
    "# this is the version for dense matrices\n",
    "u,s,v = sp.linalg.svd(adata[:,adata.var['highly_variable']].X)\n"
   ]
  },
  {
   "cell_type": "markdown",
   "metadata": {},
   "source": [
    "## Simulation of Federated Principal component analysis"
   ]
  },
  {
   "cell_type": "markdown",
   "metadata": {},
   "source": [
    "Reduce the dimensionality of the data by running principal component analysis (PCA), which reveals the main axes of variation and denoises the data.\n",
    "\n",
    "In order to understand the potential problems with federated principal component analysis for dimensionality reduction in federated setting, federated PCA is simulated using different approaches: Federated Power iteration, an exact algorithm and approximate PCA from this publication:\n",
    "\n",
    "*Maria-Florina Balcan, Vandana Kanchanapally, Yingyu Liang, and David Woodruff. Improved distributed principalcomponent analysis. In Proceedings of the 27th International Conference on Neural Information Processing Systems -Volume 2, NIPS’14, page 3113–3121, Cambridge, MA, USA,2014. MIT Press.*"
   ]
  },
  {
   "cell_type": "code",
   "execution_count": null,
   "metadata": {},
   "outputs": [],
   "source": [
    "np.random.seed(40)"
   ]
  },
  {
   "cell_type": "markdown",
   "metadata": {},
   "source": [
    "Split the data into different chunks. Here, the data is horizontally partionned. This means, the cells are partionned over several virtual sites, but measurements for all genes are available."
   ]
  },
  {
   "cell_type": "code",
   "execution_count": null,
   "metadata": {},
   "outputs": [],
   "source": [
    "data_list, r = sh.partition_data_horizontally(adata.X, splits=5, equal=True, randomize=False)"
   ]
  },
  {
   "cell_type": "code",
   "execution_count": null,
   "metadata": {},
   "outputs": [],
   "source": [
    "os.makedirs(outdir, exist_ok = True)"
   ]
  },
  {
   "cell_type": "markdown",
   "metadata": {},
   "source": [
    "## Compare scanpy's PCA with simulated federated PCA\n",
    "### Standard PCA used in scanpy (under the hood scipy> LAPACK)"
   ]
  },
  {
   "cell_type": "code",
   "execution_count": null,
   "metadata": {},
   "outputs": [],
   "source": [
    "# compute scanpy's standard PCA\n",
    "sc.tl.pca(adata)\n",
    "sc.pl.pca(adata,components =['1,2', '2,3','3,4', '7,8'], save='powerit')"
   ]
  },
  {
   "cell_type": "markdown",
   "metadata": {},
   "source": [
    "### Simulated federated Power iteration.\n",
    "This is just to show that federated Power Iteration converges to the same solution as centralized PCA, up to the sign of the eigenvectors."
   ]
  },
  {
   "cell_type": "code",
   "execution_count": null,
   "metadata": {},
   "outputs": [],
   "source": [
    "# simulated fedeated power iteration \n",
    "k= 50\n",
    "x, e, count = h.simulate_distributed_horizontal(data_list, k, maxit=500)\n",
    "proj = np.dot(adata.X, x)\n",
    "adata.obsm['X_pca_pow'] = proj\n",
    "adata.varm['PCs_pow'] = x\n",
    "sc.pl.embedding(adata, basis='X_pca_pow', components =['1,2', '2,3','3,4', '7,8'])"
   ]
  },
  {
   "cell_type": "markdown",
   "metadata": {},
   "source": [
    "### Simulate federated approximate PCA\n",
    "#### Randomize and split the data"
   ]
  },
  {
   "cell_type": "code",
   "execution_count": null,
   "metadata": {},
   "outputs": [],
   "source": [
    "# k =10\n",
    "np.random.seed(40)\n",
    "X = adata.X\n",
    "X = X[np.random.choice(X.shape[0], X.shape[0], replace=False)]\n",
    "data_list, r = sh.partition_data_horizontally(X, splits=5, equal=True, randomize=False)\n",
    "k = 50"
   ]
  },
  {
   "cell_type": "markdown",
   "metadata": {},
   "source": [
    "#### Simulate the PCA and project the data onto the eigenvectors"
   ]
  },
  {
   "cell_type": "code",
   "execution_count": null,
   "metadata": {},
   "outputs": [],
   "source": [
    "xx, ee = b.simulate_federated_horizontal_pca(data_list, k)\n",
    "proj = np.dot(adata.X, xx)\n",
    "adata.obsm['PC'] = proj\n",
    "adata.varm['PCs_approx'] = xx"
   ]
  },
  {
   "cell_type": "markdown",
   "metadata": {},
   "source": [
    "#### Plot the embedding and Compute some statistics."
   ]
  },
  {
   "cell_type": "code",
   "execution_count": null,
   "metadata": {},
   "outputs": [],
   "source": [
    "sc.pl.embedding(adata, color='CST3', basis = 'PC', components =['1,2'], save='CST3_12_k50_s40')\n",
    "sc.pl.embedding(adata, color='CST3', basis = 'PC', components =['2,3'], save='CST3_23_k50_s40')\n",
    "\n",
    "angles = co.compute_angles(adata.varm['PCs_approx'], adata.varm['PCs'])[0:10]\n",
    "angles = [np.round(a, 2) for a in angles]\n",
    "sre = co.subspace_reconstruction_error(X, xx)\n",
    "sre_orig = co.subspace_reconstruction_error(X, adata.varm['PCs'][:,0:50])"
   ]
  },
  {
   "cell_type": "markdown",
   "metadata": {},
   "source": [
    "#### Plot the embedding of the original PCA"
   ]
  },
  {
   "cell_type": "code",
   "execution_count": null,
   "metadata": {},
   "outputs": [],
   "source": [
    "sc.pl.pca(adata, color='CST3', components =['1,2'], save='CST3_12_centralised')\n",
    "sc.pl.pca(adata, color='CST3', components =['2,3'], save='CST3_23_centralised')"
   ]
  },
  {
   "cell_type": "code",
   "execution_count": null,
   "metadata": {},
   "outputs": [],
   "source": [
    "### results: save"
   ]
  },
  {
   "cell_type": "code",
   "execution_count": null,
   "metadata": {},
   "outputs": [],
   "source": [
    "angles = co.compute_angles(adata.varm['PCs_approx'], adata.varm['PCs'])[0:10]\n",
    "angles = [np.round(a, 2) for a in angles]\n",
    "pd.DataFrame(angles).to_csv('/home/anne/Documents/featurecloud/pca/horizontal-pca/results/single-cell/angles_cent_approx_s40.tsv', sep='\\t')"
   ]
  },
  {
   "cell_type": "markdown",
   "metadata": {},
   "source": [
    "### Computing the neighborhood graph: Canonical PCA"
   ]
  },
  {
   "cell_type": "markdown",
   "metadata": {},
   "source": [
    "Let us compute the neighborhood graph of cells using the PCA representation of the data matrix using the canonical PCA."
   ]
  },
  {
   "cell_type": "code",
   "execution_count": null,
   "metadata": {},
   "outputs": [],
   "source": [
    "sc.pp.neighbors(adata, use_rep='X_pca')"
   ]
  },
  {
   "cell_type": "code",
   "execution_count": null,
   "metadata": {},
   "outputs": [],
   "source": [
    "sc.tl.umap(adata)"
   ]
  },
  {
   "cell_type": "code",
   "execution_count": null,
   "metadata": {},
   "outputs": [],
   "source": [
    "sc.pl.umap(adata, color=['CST3'], save='CST3_centralised')"
   ]
  },
  {
   "cell_type": "markdown",
   "metadata": {},
   "source": [
    "### Neighborhood graph: Federated PCA"
   ]
  },
  {
   "cell_type": "code",
   "execution_count": null,
   "metadata": {},
   "outputs": [],
   "source": [
    "sc.pp.neighbors(adata, use_rep='PC', key_added='approx')"
   ]
  },
  {
   "cell_type": "code",
   "execution_count": null,
   "metadata": {},
   "outputs": [],
   "source": [
    "sc.tl.umap(adata, neighbors_key='approx')"
   ]
  },
  {
   "cell_type": "code",
   "execution_count": null,
   "metadata": {},
   "outputs": [],
   "source": [
    "sc.pl.umap(adata, color=['CST3'], neighbors_key='approx',  save='CST3_approx_s40')"
   ]
  },
  {
   "cell_type": "markdown",
   "metadata": {},
   "source": [
    "## Loadings: The coordinates of the eigenvectors\n",
    "Compare the topmost and lowest coordinates and the genes associated with these coordinates. See if the same genes are identified using canonical PCA and federated approximate PCA."
   ]
  },
  {
   "cell_type": "code",
   "execution_count": null,
   "metadata": {},
   "outputs": [],
   "source": [
    "def compare_loadings(x, x0):\n",
    "    ttl = [] # top ten loading\n",
    "    tll = [] # ten lowest loadings\n",
    "    li = min(20, x.shape[1])\n",
    "    t1 = 20\n",
    "    for i in range(li):\n",
    "        top10 = adata.var.index[np.argsort(x[:,i])[0:t1]]\n",
    "        low10 = adata.var.index[np.argsort(x[:,i])[-(t1+1):-1]]\n",
    "        top10scanpy = adata.var.index[np.argsort(x0[:,i])[0:t1]]\n",
    "        low10scanpy = adata.var.index[np.argsort(x0[:,i])[-(t1+1):-1]]\n",
    "        ttl.append(len(top10.intersection(top10scanpy)))\n",
    "        tll.append(len(low10.intersection(low10scanpy)))\n",
    "    return ttl, tll"
   ]
  },
  {
   "cell_type": "markdown",
   "metadata": {},
   "source": [
    "Surprise: The overlap is not great for higher rank eigenvectors"
   ]
  },
  {
   "cell_type": "code",
   "execution_count": null,
   "metadata": {},
   "outputs": [],
   "source": [
    "# orthonormalise eigenvectors before use!!!\n",
    "adata.varm['PCs'],x = la.qr(adata.varm['PCs'], mode='economic')\n",
    "adata.varm['PCs_approx'],x = la.qr(adata.varm['PCs_approx'], mode='economic')\n",
    "#adata.varm['PCs'],x = la.qr(adata.varm['PCs'], mode='economic')\n",
    "\n",
    "\n",
    "ttl, tll = compare_loadings(adata.varm['PCs'],adata.varm['PCs_approx'])\n",
    "sns.lineplot(x =range(len(ttl)), y = ttl)\n",
    "sns.lineplot(x =range(len(tll)), y = tll)\n",
    "\n",
    "pd.DataFrame(ttl).to_csv('/home/anne/Documents/featurecloud/pca/horizontal-pca/results/single-cell/overlap_top_s40.tsv', sep='\\t')\n",
    "pd.DataFrame(tll).to_csv('/home/anne/Documents/featurecloud/pca/horizontal-pca/results/single-cell/overlap_bottom_s40.tsv', sep='\\t')\n"
   ]
  },
  {
   "cell_type": "markdown",
   "metadata": {},
   "source": [
    "## Recompute the approximate PCA using different random seeds\n",
    "### Seed = 30"
   ]
  },
  {
   "cell_type": "code",
   "execution_count": null,
   "metadata": {},
   "outputs": [],
   "source": [
    "# simulate federated approximate PCA with lower k\n",
    "np.random.seed(30)\n",
    "X = adata.X\n",
    "c = np.random.choice(X.shape[0], X.shape[0], replace=False)\n",
    "X = X[c]\n",
    "data_list, r = sh.partition_data_horizontally(X, splits=5, equal=True, randomize=False)\n",
    "dl= [d.shape[0] for d in data_list]\n",
    "k = 50\n",
    "xx, ee = b.simulate_federated_horizontal_pca(data_list, k)\n",
    "proj = np.dot(adata.X, xx)\n",
    "adata.obsm['PC'] = proj\n",
    "adata.varm['PCs_approx'] = xx\n",
    "sc.pl.embedding(adata, color='CST3', basis = 'PC', components =['1,2'], save='CST3_12_k50_s30')\n",
    "sc.pl.embedding(adata, color='CST3', basis = 'PC', components =['2,3'], save='CST3_23_k50_s30')"
   ]
  },
  {
   "cell_type": "markdown",
   "metadata": {},
   "source": [
    "The result looks much different for PC2 vs. PC3. But the UMAP looks ok."
   ]
  },
  {
   "cell_type": "code",
   "execution_count": null,
   "metadata": {},
   "outputs": [],
   "source": [
    "sc.pp.neighbors(adata, use_rep='PC', key_added='approx')\n",
    "sc.tl.umap(adata, neighbors_key='approx')\n",
    "sc.pl.umap(adata, color=['CST3'], neighbors_key='approx',  save='CST3_approx_k50_s30')"
   ]
  },
  {
   "cell_type": "markdown",
   "metadata": {},
   "source": [
    "Here we crudely identify some outliers. Depending on the orientation of the eigenvectors the sign might change. These outliers are distributed in a biased fashion in the simulated federated run. Depending on the seed. "
   ]
  },
  {
   "cell_type": "code",
   "execution_count": null,
   "metadata": {},
   "outputs": [],
   "source": [
    "#\n",
    "sns.histplot(proj[:,2])"
   ]
  },
  {
   "cell_type": "code",
   "execution_count": null,
   "metadata": {},
   "outputs": [],
   "source": [
    "ol = np.where(proj[:,2]<-6)[0]"
   ]
  },
  {
   "cell_type": "markdown",
   "metadata": {},
   "source": [
    "#### Determine the indices in each partition and and the outlier indices per partition\n",
    "Here we see that one site has no outlier, and one has only 1."
   ]
  },
  {
   "cell_type": "code",
   "execution_count": null,
   "metadata": {},
   "outputs": [],
   "source": [
    "boundaries = []\n",
    "current= 0\n",
    "cho = []\n",
    "for d in dl:\n",
    "    cho.append(c[current:current+d])\n",
    "    current = current+d\n",
    "    boundaries.append(current)\n",
    "section = [set(ol).intersection(cc) for cc in cho]"
   ]
  },
  {
   "cell_type": "code",
   "execution_count": null,
   "metadata": {},
   "outputs": [],
   "source": [
    "section\n",
    "nol = [len(d) for d in section]"
   ]
  },
  {
   "cell_type": "code",
   "execution_count": null,
   "metadata": {},
   "outputs": [],
   "source": [
    "nol"
   ]
  },
  {
   "cell_type": "markdown",
   "metadata": {},
   "source": [
    "Outliers per site: [4, 2, 5, 0, 1]"
   ]
  },
  {
   "cell_type": "code",
   "execution_count": null,
   "metadata": {},
   "outputs": [],
   "source": [
    "# orthonormalise eigenvectors before use!!!\n",
    "adata.varm['PCs'],x = la.qr(adata.varm['PCs'], mode='economic')\n",
    "adata.varm['PCs_approx'],x = la.qr(adata.varm['PCs_approx'], mode='economic')\n",
    "#adata.varm['PCs'],x = la.qr(adata.varm['PCs'], mode='economic')\n",
    "\n",
    "\n",
    "ttl, tll = compare_loadings(adata.varm['PCs'],adata.varm['PCs_approx'])\n",
    "sns.lineplot(x =range(len(ttl)), y = ttl)\n",
    "sns.lineplot(x =range(len(tll)), y = tll)\n",
    "\n",
    "pd.DataFrame(ttl).to_csv('/home/anne/Documents/featurecloud/pca/horizontal-pca/results/single-cell/overlap_top_s30.tsv', sep='\\t')\n",
    "pd.DataFrame(tll).to_csv('/home/anne/Documents/featurecloud/pca/horizontal-pca/results/single-cell/overlap_bottom_s30.tsv', sep='\\t')\n"
   ]
  },
  {
   "cell_type": "code",
   "execution_count": null,
   "metadata": {},
   "outputs": [],
   "source": [
    "angles = co.compute_angles(adata.varm['PCs_approx'], adata.varm['PCs'])[0:10]\n",
    "angles = [np.round(a, 2) for a in angles]\n",
    "pd.DataFrame(angles).to_csv('/home/anne/Documents/featurecloud/pca/horizontal-pca/results/single-cell/angles_cent_approx_s30.tsv', sep='\\t')"
   ]
  },
  {
   "cell_type": "markdown",
   "metadata": {},
   "source": [
    "The outliers are not equally distributed over the sites. We observe strong distortion."
   ]
  },
  {
   "cell_type": "markdown",
   "metadata": {},
   "source": [
    "### Outlier distribution with a different seed.\n",
    "#### Seed =40 : The outliers are more equally distributed and the PCA plot looks more like the original"
   ]
  },
  {
   "cell_type": "code",
   "execution_count": null,
   "metadata": {},
   "outputs": [],
   "source": [
    "# simulate federated approximate PCA with lseed= 40\n",
    "np.random.seed(40)\n",
    "X = adata.X\n",
    "c = np.random.choice(X.shape[0], X.shape[0], replace=False)\n",
    "X = X[c]\n",
    "data_list, r = sh.partition_data_horizontally(X, splits=5, equal=True, randomize=False)\n",
    "dl= [d.shape[0] for d in data_list]\n",
    "k = 10\n",
    "xx, ee = b.simulate_federated_horizontal_pca(data_list, k)\n",
    "proj = np.dot(adata.X, xx)\n",
    "adata.obsm['PC'] = proj\n",
    "adata.varm['PCs_approx'] = xx\n",
    "#sc.pl.embedding(adata, color='CST3', basis = 'PC', components =['1,2'], save='CST3_12_k10_s40')\n",
    "#sc.pl.embedding(adata, color='CST3', basis = 'PC', components =['2,3'], save='CST3_23_k10_s40')"
   ]
  },
  {
   "cell_type": "code",
   "execution_count": null,
   "metadata": {},
   "outputs": [],
   "source": [
    "#\n",
    "sns.histplot(proj[:,2])"
   ]
  },
  {
   "cell_type": "code",
   "execution_count": null,
   "metadata": {},
   "outputs": [],
   "source": [
    "ol = np.where(proj[:,2]<-6)[0]"
   ]
  },
  {
   "cell_type": "code",
   "execution_count": null,
   "metadata": {},
   "outputs": [],
   "source": [
    "#Determine the indices in each partition and and the outlier indices per partition\n",
    "boundaries = []\n",
    "current= 0\n",
    "cho = []\n",
    "for d in dl:\n",
    "    cho.append(c[current:current+d])\n",
    "    current = current+d\n",
    "    boundaries.append(current)\n",
    "section = [set(ol).intersection(cc) for cc in cho]"
   ]
  },
  {
   "cell_type": "code",
   "execution_count": null,
   "metadata": {},
   "outputs": [],
   "source": [
    "section\n",
    "nol = [len(d) for d in section]"
   ]
  },
  {
   "cell_type": "code",
   "execution_count": null,
   "metadata": {},
   "outputs": [],
   "source": [
    "nol"
   ]
  },
  {
   "cell_type": "markdown",
   "metadata": {},
   "source": [
    "Outliers per site: [2, 7, 5, 2, 3]"
   ]
  },
  {
   "cell_type": "markdown",
   "metadata": {},
   "source": [
    "The outliers are distributed equally among the sites. Therefore small distortion is observed."
   ]
  },
  {
   "cell_type": "markdown",
   "metadata": {},
   "source": [
    "#### We also look at different k to see if we really need that many eigenvectors/projections/dimensions"
   ]
  },
  {
   "cell_type": "code",
   "execution_count": null,
   "metadata": {},
   "outputs": [],
   "source": [
    "# simulate federated approximate PCA with lower k\n",
    "np.random.seed(40)\n",
    "X = adata.X\n",
    "X = X[np.random.choice(X.shape[0], X.shape[0], replace=False)]\n",
    "data_list, r = sh.partition_data_horizontally(X, splits=5, equal=True, randomize=False)\n",
    "k = 5\n",
    "xx, ee = b.simulate_federated_horizontal_pca(data_list, k)\n",
    "proj = np.dot(adata.X, xx)\n",
    "adata.obsm['PC'] = proj\n",
    "adata.varm['PCs_approx'] = xx\n",
    "sc.pl.embedding(adata, color='CST3', basis = 'PC', components =['1,2'], save='CST3_12_k5_s40')\n",
    "sc.pl.embedding(adata, color='CST3', basis = 'PC', components =['2,3'], save='CST3_23_k5_s40')"
   ]
  },
  {
   "cell_type": "code",
   "execution_count": null,
   "metadata": {},
   "outputs": [],
   "source": [
    "sc.pp.neighbors(adata, use_rep='PC', key_added='approx')\n",
    "sc.tl.umap(adata, neighbors_key='approx')\n",
    "sc.pl.umap(adata, color=['CST3'], neighbors_key='approx',  save='CST3_approx_k5_S40')"
   ]
  },
  {
   "cell_type": "code",
   "execution_count": null,
   "metadata": {},
   "outputs": [],
   "source": [
    "# simulate federated approximate PCA with higher k\n",
    "X = adata.X\n",
    "X = X[np.random.choice(X.shape[0], X.shape[0], replace=False)]\n",
    "data_list, r = sh.partition_data_horizontally(adata.X, splits=5, equal=True, randomize=False)\n",
    "k = 200\n",
    "xx, ee = b.simulate_federated_horizontal_pca(data_list, k)\n",
    "proj = np.dot(adata.X, xx)\n",
    "adata.obsm['PC'] = proj[:, 0:30]\n",
    "adata.varm['PCs_approx'] = xx\n",
    "sc.pl.embedding(adata, color='CST3', basis = 'PC', components =['1,2'], save='CST3_12_k200_s40')\n",
    "sc.pl.embedding(adata, color='CST3', basis = 'PC', components =['2,3'], save='CST3_23_k200_s40')"
   ]
  },
  {
   "cell_type": "code",
   "execution_count": null,
   "metadata": {},
   "outputs": [],
   "source": [
    "sc.pp.neighbors(adata, use_rep='PC', key_added='approx')\n",
    "sc.tl.umap(adata, neighbors_key='approx')\n",
    "sc.pl.umap(adata, color=['CST3'], neighbors_key='approx',  save='CST3_approx_k200')"
   ]
  },
  {
   "cell_type": "code",
   "execution_count": null,
   "metadata": {},
   "outputs": [],
   "source": []
  },
  {
   "cell_type": "markdown",
   "metadata": {},
   "source": [
    "### Clustering with extremely biased split according to clustering\n",
    "To show that the problem are really the outliers, here we perform PCA on an extremely biased data split. We first cluster the data according to the centralised UMAP into three clusters. Then we simulate federated approximate PCA with one cluster per site and send. The results of the PC plots and the UMAPs look ok."
   ]
  },
  {
   "cell_type": "code",
   "execution_count": null,
   "metadata": {},
   "outputs": [],
   "source": [
    "sc.tl.leiden(adata, neighbors_key='approx', resolution=0.1)\n",
    "sc.pl.umap(adata, color=['leiden'], use_raw=False,neighbors_key='approx', save='clustered_3')\n"
   ]
  },
  {
   "cell_type": "code",
   "execution_count": null,
   "metadata": {},
   "outputs": [],
   "source": [
    "# simulate federated approximate PCA with higher k\n",
    "X = adata.X\n",
    "data_list = []\n",
    "for i in np.unique(adata.obs.leiden):\n",
    "    data_list.append(X[adata.obs.leiden==i])\n"
   ]
  },
  {
   "cell_type": "code",
   "execution_count": null,
   "metadata": {},
   "outputs": [],
   "source": [
    "xx, ee = b.simulate_federated_horizontal_pca(data_list, k)\n",
    "proj = np.dot(adata.X, xx)\n",
    "adata.obsm['PC'] = proj[:, 0:30]\n",
    "adata.varm['PCs_approx'] = xx\n",
    "sc.pl.embedding(adata, color='CST3', basis = 'PC', components =['1,2'], save='CST3_12_clustered_s40')\n",
    "sc.pl.embedding(adata, color='CST3', basis = 'PC', components =['2,3'], save='CST3_23_clustered_s40')"
   ]
  },
  {
   "cell_type": "code",
   "execution_count": null,
   "metadata": {},
   "outputs": [],
   "source": [
    "sc.pp.neighbors(adata, use_rep='PC', key_added='approx')\n",
    "sc.tl.umap(adata, neighbors_key='approx')\n",
    "sc.pl.umap(adata, color=['CST3'], neighbors_key='approx',  save='CST3_approx_clustered_s40')"
   ]
  },
  {
   "cell_type": "code",
   "execution_count": null,
   "metadata": {},
   "outputs": [],
   "source": []
  },
  {
   "cell_type": "code",
   "execution_count": null,
   "metadata": {},
   "outputs": [],
   "source": []
  }
 ],
 "metadata": {
  "anaconda-cloud": {},
  "kernelspec": {
   "display_name": "Python 3",
   "language": "python",
   "name": "python3"
  },
  "language_info": {
   "codemirror_mode": {
    "name": "ipython",
    "version": 3
   },
   "file_extension": ".py",
   "mimetype": "text/x-python",
   "name": "python",
   "nbconvert_exporter": "python",
   "pygments_lexer": "ipython3",
   "version": "3.7.9"
  }
 },
 "nbformat": 4,
 "nbformat_minor": 4
}
