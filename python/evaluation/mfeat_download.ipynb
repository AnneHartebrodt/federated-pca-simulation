{
 "cells": [
  {
   "cell_type": "markdown",
   "source": [
    "### mfeat data downloaded from UCI ML repository"
   ],
   "metadata": {
    "collapsed": false
   }
  },
  {
   "cell_type": "code",
   "execution_count": null,
   "outputs": [],
   "source": [
    "%%bash\n",
    "mydir='/home/anne/Documents/featurecloud/pca/vertical-pca/data/mfeat'\n",
    "mkdir -p $mydir\n",
    "cd $mydir\n",
    "#wget https://archive.ics.uci.edu/ml/machine-learning-databases/mfeat/mfeat.tar\n",
    "#tar xvf mfeat.tar\n",
    "#rm mfeat.tar\n",
    "\n"
   ],
   "metadata": {
    "collapsed": false,
    "pycharm": {
     "name": "#%%\n"
    }
   }
  }
 ],
 "metadata": {
  "kernelspec": {
   "display_name": "Python 3",
   "language": "python",
   "name": "python3"
  },
  "language_info": {
   "codemirror_mode": {
    "name": "ipython",
    "version": 2
   },
   "file_extension": ".py",
   "mimetype": "text/x-python",
   "name": "python",
   "nbconvert_exporter": "python",
   "pygments_lexer": "ipython2",
   "version": "2.7.6"
  }
 },
 "nbformat": 4,
 "nbformat_minor": 0
}