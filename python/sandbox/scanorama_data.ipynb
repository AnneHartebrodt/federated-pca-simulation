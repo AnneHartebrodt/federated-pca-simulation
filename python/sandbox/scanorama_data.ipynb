{
 "cells": [
  {
   "cell_type": "code",
   "execution_count": 3,
   "id": "bizarre-photography",
   "metadata": {},
   "outputs": [
    {
     "ename": "FileNotFoundError",
     "evalue": "[Errno 2] No such file or directory: '-f'",
     "output_type": "error",
     "traceback": [
      "\u001B[0;31m---------------------------------------------------------------------------\u001B[0m",
      "\u001B[0;31mFileNotFoundError\u001B[0m                         Traceback (most recent call last)",
      "\u001B[0;32m<ipython-input-3-74e58296954e>\u001B[0m in \u001B[0;36m<module>\u001B[0;34m\u001B[0m\n\u001B[1;32m     21\u001B[0m \u001B[0;32mimport\u001B[0m \u001B[0mos\u001B[0m\u001B[0;34m.\u001B[0m\u001B[0mpath\u001B[0m \u001B[0;32mas\u001B[0m \u001B[0mop\u001B[0m\u001B[0;34m\u001B[0m\u001B[0;34m\u001B[0m\u001B[0m\n\u001B[1;32m     22\u001B[0m \u001B[0;32mimport\u001B[0m \u001B[0mpython\u001B[0m\u001B[0;34m.\u001B[0m\u001B[0mPCA\u001B[0m\u001B[0;34m.\u001B[0m\u001B[0mcomparison\u001B[0m \u001B[0;32mas\u001B[0m \u001B[0mco\u001B[0m\u001B[0;34m\u001B[0m\u001B[0;34m\u001B[0m\u001B[0m\n\u001B[0;32m---> 23\u001B[0;31m \u001B[0;32mimport\u001B[0m \u001B[0mbin\u001B[0m\u001B[0;34m.\u001B[0m\u001B[0mconfig\u001B[0m \u001B[0;32mas\u001B[0m \u001B[0mcc\u001B[0m\u001B[0;34m\u001B[0m\u001B[0;34m\u001B[0m\u001B[0m\n\u001B[0m\u001B[1;32m     24\u001B[0m \u001B[0;32mimport\u001B[0m \u001B[0mscanorama\u001B[0m \u001B[0;32mas\u001B[0m \u001B[0mscan\u001B[0m\u001B[0;34m\u001B[0m\u001B[0;34m\u001B[0m\u001B[0m\n\u001B[1;32m     25\u001B[0m \u001B[0;34m\u001B[0m\u001B[0m\n",
      "\u001B[0;32m~/Documents/featurecloud/pca/scanorama/bin/config.py\u001B[0m in \u001B[0;36m<module>\u001B[0;34m\u001B[0m\n\u001B[1;32m      9\u001B[0m \u001B[0;34m\u001B[0m\u001B[0m\n\u001B[1;32m     10\u001B[0m     \u001B[0mdata_names\u001B[0m \u001B[0;34m=\u001B[0m \u001B[0;34m[\u001B[0m\u001B[0;34m]\u001B[0m\u001B[0;34m\u001B[0m\u001B[0;34m\u001B[0m\u001B[0m\n\u001B[0;32m---> 11\u001B[0;31m     \u001B[0;32mfor\u001B[0m \u001B[0mline\u001B[0m \u001B[0;32min\u001B[0m \u001B[0mfileinput\u001B[0m\u001B[0;34m.\u001B[0m\u001B[0minput\u001B[0m\u001B[0;34m(\u001B[0m\u001B[0;34m)\u001B[0m\u001B[0;34m:\u001B[0m\u001B[0;34m\u001B[0m\u001B[0;34m\u001B[0m\u001B[0m\n\u001B[0m\u001B[1;32m     12\u001B[0m         \u001B[0mfields\u001B[0m \u001B[0;34m=\u001B[0m \u001B[0mline\u001B[0m\u001B[0;34m.\u001B[0m\u001B[0mrstrip\u001B[0m\u001B[0;34m(\u001B[0m\u001B[0;34m)\u001B[0m\u001B[0;34m.\u001B[0m\u001B[0msplit\u001B[0m\u001B[0;34m(\u001B[0m\u001B[0;34m','\u001B[0m\u001B[0;34m)\u001B[0m\u001B[0;34m\u001B[0m\u001B[0;34m\u001B[0m\u001B[0m\n\u001B[1;32m     13\u001B[0m         \u001B[0;32mfor\u001B[0m \u001B[0mf\u001B[0m \u001B[0;32min\u001B[0m \u001B[0mfields\u001B[0m\u001B[0;34m:\u001B[0m\u001B[0;34m\u001B[0m\u001B[0;34m\u001B[0m\u001B[0m\n",
      "\u001B[0;32m~/miniconda3/envs/federated_dp_pca/lib/python3.7/fileinput.py\u001B[0m in \u001B[0;36m__next__\u001B[0;34m(self)\u001B[0m\n\u001B[1;32m    250\u001B[0m     \u001B[0;32mdef\u001B[0m \u001B[0m__next__\u001B[0m\u001B[0;34m(\u001B[0m\u001B[0mself\u001B[0m\u001B[0;34m)\u001B[0m\u001B[0;34m:\u001B[0m\u001B[0;34m\u001B[0m\u001B[0;34m\u001B[0m\u001B[0m\n\u001B[1;32m    251\u001B[0m         \u001B[0;32mwhile\u001B[0m \u001B[0;32mTrue\u001B[0m\u001B[0;34m:\u001B[0m\u001B[0;34m\u001B[0m\u001B[0;34m\u001B[0m\u001B[0m\n\u001B[0;32m--> 252\u001B[0;31m             \u001B[0mline\u001B[0m \u001B[0;34m=\u001B[0m \u001B[0mself\u001B[0m\u001B[0;34m.\u001B[0m\u001B[0m_readline\u001B[0m\u001B[0;34m(\u001B[0m\u001B[0;34m)\u001B[0m\u001B[0;34m\u001B[0m\u001B[0;34m\u001B[0m\u001B[0m\n\u001B[0m\u001B[1;32m    253\u001B[0m             \u001B[0;32mif\u001B[0m \u001B[0mline\u001B[0m\u001B[0;34m:\u001B[0m\u001B[0;34m\u001B[0m\u001B[0;34m\u001B[0m\u001B[0m\n\u001B[1;32m    254\u001B[0m                 \u001B[0mself\u001B[0m\u001B[0;34m.\u001B[0m\u001B[0m_filelineno\u001B[0m \u001B[0;34m+=\u001B[0m \u001B[0;36m1\u001B[0m\u001B[0;34m\u001B[0m\u001B[0;34m\u001B[0m\u001B[0m\n",
      "\u001B[0;32m~/miniconda3/envs/federated_dp_pca/lib/python3.7/fileinput.py\u001B[0m in \u001B[0;36m_readline\u001B[0;34m(self)\u001B[0m\n\u001B[1;32m    362\u001B[0m                     \u001B[0mself\u001B[0m\u001B[0;34m.\u001B[0m\u001B[0m_file\u001B[0m \u001B[0;34m=\u001B[0m \u001B[0mself\u001B[0m\u001B[0;34m.\u001B[0m\u001B[0m_openhook\u001B[0m\u001B[0;34m(\u001B[0m\u001B[0mself\u001B[0m\u001B[0;34m.\u001B[0m\u001B[0m_filename\u001B[0m\u001B[0;34m,\u001B[0m \u001B[0mself\u001B[0m\u001B[0;34m.\u001B[0m\u001B[0m_mode\u001B[0m\u001B[0;34m)\u001B[0m\u001B[0;34m\u001B[0m\u001B[0;34m\u001B[0m\u001B[0m\n\u001B[1;32m    363\u001B[0m                 \u001B[0;32melse\u001B[0m\u001B[0;34m:\u001B[0m\u001B[0;34m\u001B[0m\u001B[0;34m\u001B[0m\u001B[0m\n\u001B[0;32m--> 364\u001B[0;31m                     \u001B[0mself\u001B[0m\u001B[0;34m.\u001B[0m\u001B[0m_file\u001B[0m \u001B[0;34m=\u001B[0m \u001B[0mopen\u001B[0m\u001B[0;34m(\u001B[0m\u001B[0mself\u001B[0m\u001B[0;34m.\u001B[0m\u001B[0m_filename\u001B[0m\u001B[0;34m,\u001B[0m \u001B[0mself\u001B[0m\u001B[0;34m.\u001B[0m\u001B[0m_mode\u001B[0m\u001B[0;34m)\u001B[0m\u001B[0;34m\u001B[0m\u001B[0;34m\u001B[0m\u001B[0m\n\u001B[0m\u001B[1;32m    365\u001B[0m         \u001B[0mself\u001B[0m\u001B[0;34m.\u001B[0m\u001B[0m_readline\u001B[0m \u001B[0;34m=\u001B[0m \u001B[0mself\u001B[0m\u001B[0;34m.\u001B[0m\u001B[0m_file\u001B[0m\u001B[0;34m.\u001B[0m\u001B[0mreadline\u001B[0m  \u001B[0;31m# hide FileInput._readline\u001B[0m\u001B[0;34m\u001B[0m\u001B[0;34m\u001B[0m\u001B[0m\n\u001B[1;32m    366\u001B[0m         \u001B[0;32mreturn\u001B[0m \u001B[0mself\u001B[0m\u001B[0;34m.\u001B[0m\u001B[0m_readline\u001B[0m\u001B[0;34m(\u001B[0m\u001B[0;34m)\u001B[0m\u001B[0;34m\u001B[0m\u001B[0;34m\u001B[0m\u001B[0m\n",
      "\u001B[0;31mFileNotFoundError\u001B[0m: [Errno 2] No such file or directory: '-f'"
     ]
    }
   ],
   "source": [
    "import sys\n",
    "sys.path.append('/home/anne/Documents/featurecloud/pca/federated_dp_pca')\n",
    "sys.path.append('/home/anne/Documents/featurecloud/pca/scanorama/')\n",
    "#sys.path.append('/home/anne/Documents/featurecloud/pca/scanorama')\n",
    "import python.PCA.horizontal as h\n",
    "import python.PCA.shared_functions as sh\n",
    "import os.path as op\n",
    "import os\n",
    "import python.PCA.horizontal.horizontal_pca_benchmark as hb\n",
    "import seaborn\n",
    "import python.PCA.horizontal.horizontal_pca_power_iteration as h\n",
    "import python.PCA.horizontal.balcan as b\n",
    "import python.PCA.horizontal.bai as bai\n",
    "import python.PCA.horizontal.proxy_covariance as proxy\n",
    "import python.PCA.vertical.simulate_federated_vertically_partionned_pca as vertical\n",
    "import numpy as np\n",
    "import seaborn as sns\n",
    "import matplotlib.pyplot as plt\n",
    "import scipy.linalg as la\n",
    "import scipy.sparse.linalg as lsa\n",
    "import os.path as op\n",
    "import python.PCA.comparison as co\n",
    "\n",
    "import scanorama as scan\n",
    "\n",
    "from time import time\n",
    "import numpy as np\n",
    "\n",
    "NAMESPACE = 'panorama_integrated'"
   ]
  },
  {
   "cell_type": "code",
   "execution_count": 3,
   "id": "touched-missouri",
   "metadata": {},
   "outputs": [],
   "source": [
    "#from config import data_names\n",
    "from scipy.sparse import csr_matrix"
   ]
  },
  {
   "cell_type": "code",
   "execution_count": 4,
   "id": "radio-virtue",
   "metadata": {},
   "outputs": [
    {
     "name": "stdout",
     "output_type": "stream",
     "text": [
      "['/home/anne/Documents/featurecloud/pca/scanorama/data/293t_jurkat/293t', '/home/anne/Documents/featurecloud/pca/scanorama/data/293t_jurkat/jurkat', '/home/anne/Documents/featurecloud/pca/scanorama/data/293t_jurkat/jurkat_293t_50_50', '/home/anne/Documents/featurecloud/pca/scanorama/data/293t_jurkat/jurkat_293t_99_1', '/home/anne/Documents/featurecloud/pca/scanorama/data/brain/neuron_9k', '/home/anne/Documents/featurecloud/pca/scanorama/data/macrophage/infected', '/home/anne/Documents/featurecloud/pca/scanorama/data/macrophage/mixed_infected', '/home/anne/Documents/featurecloud/pca/scanorama/data/macrophage/uninfected', '/home/anne/Documents/featurecloud/pca/scanorama/data/macrophage/uninfected_donor2', '/home/anne/Documents/featurecloud/pca/scanorama/data/hsc/hsc_mars', '/home/anne/Documents/featurecloud/pca/scanorama/data/hsc/hsc_ss2', '/home/anne/Documents/featurecloud/pca/scanorama/data/pancreas/pancreas_inDrop', '/home/anne/Documents/featurecloud/pca/scanorama/data/pancreas/pancreas_multi_celseq2_expression_matrix', '/home/anne/Documents/featurecloud/pca/scanorama/data/pancreas/pancreas_multi_celseq_expression_matrix', '/home/anne/Documents/featurecloud/pca/scanorama/data/pancreas/pancreas_multi_fluidigmc1_expression_matrix', '/home/anne/Documents/featurecloud/pca/scanorama/data/pancreas/pancreas_multi_smartseq2_expression_matrix', '/home/anne/Documents/featurecloud/pca/scanorama/data/pbmc/10x/68k_pbmc', '/home/anne/Documents/featurecloud/pca/scanorama/data/pbmc/10x/b_cells', '/home/anne/Documents/featurecloud/pca/scanorama/data/pbmc/10x/cd14_monocytes', '/home/anne/Documents/featurecloud/pca/scanorama/data/pbmc/10x/cd4_t_helper', '/home/anne/Documents/featurecloud/pca/scanorama/data/pbmc/10x/cd56_nk', '/home/anne/Documents/featurecloud/pca/scanorama/data/pbmc/10x/cytotoxic_t', '/home/anne/Documents/featurecloud/pca/scanorama/data/pbmc/10x/memory_t', '/home/anne/Documents/featurecloud/pca/scanorama/data/pbmc/10x/regulatory_t', '/home/anne/Documents/featurecloud/pca/scanorama/data/pbmc/pbmc_kang', '/home/anne/Documents/featurecloud/pca/scanorama/data/pbmc/pbmc_10X']\n"
     ]
    },
    {
     "ename": "NameError",
     "evalue": "name 'cc' is not defined",
     "output_type": "error",
     "traceback": [
      "\u001B[0;31m---------------------------------------------------------------------------\u001B[0m",
      "\u001B[0;31mNameError\u001B[0m                                 Traceback (most recent call last)",
      "\u001B[0;32m<ipython-input-4-28f3afe3b612>\u001B[0m in \u001B[0;36m<module>\u001B[0;34m\u001B[0m\n\u001B[1;32m      6\u001B[0m \u001B[0;34m\u001B[0m\u001B[0m\n\u001B[1;32m      7\u001B[0m \u001B[0mprint\u001B[0m\u001B[0;34m(\u001B[0m\u001B[0mdata_names\u001B[0m\u001B[0;34m)\u001B[0m\u001B[0;34m\u001B[0m\u001B[0;34m\u001B[0m\u001B[0m\n\u001B[0;32m----> 8\u001B[0;31m \u001B[0mdatasets\u001B[0m\u001B[0;34m,\u001B[0m \u001B[0mgenes_list\u001B[0m\u001B[0;34m,\u001B[0m \u001B[0mn_cells\u001B[0m \u001B[0;34m=\u001B[0m \u001B[0mcc\u001B[0m\u001B[0;34m.\u001B[0m\u001B[0mload_names\u001B[0m\u001B[0;34m(\u001B[0m\u001B[0mdata_names\u001B[0m\u001B[0;34m[\u001B[0m\u001B[0;36m0\u001B[0m\u001B[0;34m:\u001B[0m\u001B[0;36m1\u001B[0m\u001B[0;34m]\u001B[0m\u001B[0;34m)\u001B[0m\u001B[0;34m\u001B[0m\u001B[0;34m\u001B[0m\u001B[0m\n\u001B[0m\u001B[1;32m      9\u001B[0m \u001B[0mdatasets\u001B[0m\u001B[0;34m,\u001B[0m \u001B[0mgenes\u001B[0m \u001B[0;34m=\u001B[0m \u001B[0mscan\u001B[0m\u001B[0;34m.\u001B[0m\u001B[0mmerge_datasets\u001B[0m\u001B[0;34m(\u001B[0m\u001B[0mdatasets\u001B[0m\u001B[0;34m,\u001B[0m \u001B[0mgenes_list\u001B[0m\u001B[0;34m)\u001B[0m\u001B[0;34m\u001B[0m\u001B[0;34m\u001B[0m\u001B[0m\n\u001B[1;32m     10\u001B[0m \u001B[0;34m\u001B[0m\u001B[0m\n",
      "\u001B[0;31mNameError\u001B[0m: name 'cc' is not defined"
     ]
    }
   ],
   "source": [
    "data_names = []\n",
    "with open('/home/anne/Documents/featurecloud/pca/scanorama/conf/panorama.txt', 'r') as handle:\n",
    "    for line in handle:\n",
    "        line = line.strip()\n",
    "        data_names.append(op.join('/home/anne/Documents/featurecloud/pca/scanorama/',line ))\n",
    "\n",
    "print(data_names)        \n",
    "datasets, genes_list, n_cells = load_names(data_names[0:1])\n",
    "datasets, genes = scan.merge_datasets(datasets, genes_list)\n",
    "\n",
    "labels = []\n",
    "names = []\n",
    "curr_label = 0\n",
    "for i, a in enumerate(datasets):\n",
    "    labels += list(np.zeros(a.shape[0]) + curr_label)\n",
    "    names.append(data_names[i])\n",
    "    curr_label += 1\n",
    "labels = np.array(labels, dtype=int)"
   ]
  },
  {
   "cell_type": "code",
   "execution_count": 5,
   "id": "mounted-monaco",
   "metadata": {},
   "outputs": [
    {
     "ename": "NameError",
     "evalue": "name 'datasets' is not defined",
     "output_type": "error",
     "traceback": [
      "\u001B[0;31m---------------------------------------------------------------------------\u001B[0m",
      "\u001B[0;31mNameError\u001B[0m                                 Traceback (most recent call last)",
      "\u001B[0;32m<ipython-input-5-9b42dc12657e>\u001B[0m in \u001B[0;36m<module>\u001B[0;34m\u001B[0m\n\u001B[0;32m----> 1\u001B[0;31m \u001B[0md\u001B[0m \u001B[0;34m=\u001B[0m \u001B[0mnp\u001B[0m\u001B[0;34m.\u001B[0m\u001B[0mvstack\u001B[0m\u001B[0;34m(\u001B[0m\u001B[0mdatasets\u001B[0m\u001B[0;34m)\u001B[0m\u001B[0;34m\u001B[0m\u001B[0;34m\u001B[0m\u001B[0m\n\u001B[0m\u001B[1;32m      2\u001B[0m \u001B[0;34m\u001B[0m\u001B[0m\n",
      "\u001B[0;31mNameError\u001B[0m: name 'datasets' is not defined"
     ]
    }
   ],
   "source": [
    "d = np.vstack(datasets)"
   ]
  },
  {
   "cell_type": "code",
   "execution_count": 6,
   "id": "wireless-genesis",
   "metadata": {},
   "outputs": [],
   "source": [
    "u, s, vt = lsa.svds(d)"
   ]
  },
  {
   "cell_type": "code",
   "execution_count": 7,
   "id": "collect-prefix",
   "metadata": {},
   "outputs": [
    {
     "name": "stdout",
     "output_type": "stream",
     "text": [
      "(32639, 6)\n"
     ]
    },
    {
     "data": {
      "text/plain": "(2885, 32639)"
     },
     "execution_count": 7,
     "metadata": {},
     "output_type": "execute_result"
    }
   ],
   "source": [
    "print(vt.T.shape)\n",
    "d.shape"
   ]
  },
  {
   "cell_type": "code",
   "execution_count": null,
   "id": "legislative-desktop",
   "metadata": {
    "pycharm": {
     "is_executing": true
    }
   },
   "outputs": [],
   "source": [
    "proj = np.dot(d, vt.T)"
   ]
  },
  {
   "cell_type": "code",
   "execution_count": 8,
   "id": "empirical-bedroom",
   "metadata": {},
   "outputs": [
    {
     "ename": "AttributeError",
     "evalue": "module 'seaborn' has no attribute 'plot'",
     "output_type": "error",
     "traceback": [
      "\u001B[0;31m---------------------------------------------------------------------------\u001B[0m",
      "\u001B[0;31mAttributeError\u001B[0m                            Traceback (most recent call last)",
      "\u001B[0;32m<ipython-input-8-8158e5e8f89a>\u001B[0m in \u001B[0;36m<module>\u001B[0;34m\u001B[0m\n\u001B[0;32m----> 1\u001B[0;31m \u001B[0msns\u001B[0m\u001B[0;34m.\u001B[0m\u001B[0mplot\u001B[0m\u001B[0;34m\u001B[0m\u001B[0;34m\u001B[0m\u001B[0m\n\u001B[0m",
      "\u001B[0;31mAttributeError\u001B[0m: module 'seaborn' has no attribute 'plot'"
     ]
    }
   ],
   "source": [
    "sns.plot"
   ]
  }
 ],
 "metadata": {
  "kernelspec": {
   "display_name": "Python 3",
   "language": "python",
   "name": "python3"
  },
  "language_info": {
   "codemirror_mode": {
    "name": "ipython",
    "version": 3
   },
   "file_extension": ".py",
   "mimetype": "text/x-python",
   "name": "python",
   "nbconvert_exporter": "python",
   "pygments_lexer": "ipython3",
   "version": "3.7.9"
  }
 },
 "nbformat": 4,
 "nbformat_minor": 5
}